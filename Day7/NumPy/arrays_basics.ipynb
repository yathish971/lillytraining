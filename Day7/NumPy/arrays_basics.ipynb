{
 "cells": [
  {
   "cell_type": "markdown",
   "id": "ac02a602-2f87-4d38-abda-5adfe0b9b58c",
   "metadata": {},
   "source": [
    "## Arrays and Basic Operations"
   ]
  },
  {
   "cell_type": "code",
   "execution_count": 15,
   "id": "4dd3ee46-d926-4f37-a079-573f9f915e5e",
   "metadata": {},
   "outputs": [],
   "source": [
    "# import numpy\n",
    "import numpy as np"
   ]
  },
  {
   "cell_type": "code",
   "execution_count": 16,
   "id": "ee2118dc-0be7-4a28-b3d6-48c7cc652209",
   "metadata": {
    "scrolled": true
   },
   "outputs": [],
   "source": [
    "# Try to multiply two lists\n",
    "a=[1,2,3,4,5]\n",
    "b=[2,3,4,5,6]\n"
   ]
  },
  {
   "cell_type": "code",
   "execution_count": 17,
   "id": "acb4d779-7964-4195-8ed9-41f0e3410317",
   "metadata": {},
   "outputs": [
    {
     "data": {
      "text/plain": [
       "array([ 2,  6, 12, 20, 30])"
      ]
     },
     "execution_count": 17,
     "metadata": {},
     "output_type": "execute_result"
    }
   ],
   "source": [
    "#Coverting to numpy array and then multiply\n",
    "a=np.array(a)\n",
    "b=np.array(b)\n",
    "a*b"
   ]
  },
  {
   "cell_type": "code",
   "execution_count": 18,
   "id": "3eaa7f82-d8b5-484a-b815-e24179fc974a",
   "metadata": {},
   "outputs": [
    {
     "name": "stdout",
     "output_type": "stream",
     "text": [
      "[1 2 3]\n",
      "[[9.1 8.2 7.3]\n",
      " [2.4 4.5 6.7]]\n"
     ]
    }
   ],
   "source": [
    "#Creating the numpy array single and multidimensional\n",
    "c=np.array([1,2,3])\n",
    "d=np.array([[9.1,8.2,7.3],[2.4,4.5,6.7]])\n",
    "print(c)\n",
    "print(d)"
   ]
  },
  {
   "cell_type": "code",
   "execution_count": 20,
   "id": "f6601e2c-3f08-4b03-ba88-791dab83e588",
   "metadata": {},
   "outputs": [
    {
     "data": {
      "text/plain": [
       "2"
      ]
     },
     "execution_count": 20,
     "metadata": {},
     "output_type": "execute_result"
    }
   ],
   "source": [
    "# Get dimension\n",
    "d.ndim"
   ]
  },
  {
   "cell_type": "code",
   "execution_count": 21,
   "id": "23b2365e-cc27-42cc-b287-22e5b61a9fd7",
   "metadata": {},
   "outputs": [
    {
     "data": {
      "text/plain": [
       "(3,)"
      ]
     },
     "execution_count": 21,
     "metadata": {},
     "output_type": "execute_result"
    }
   ],
   "source": [
    "#Get shape\n",
    "c.shape"
   ]
  },
  {
   "cell_type": "code",
   "execution_count": 22,
   "id": "5e1b06be-3791-42f9-be8a-3649ec820d0a",
   "metadata": {},
   "outputs": [
    {
     "data": {
      "text/plain": [
       "dtype('int32')"
      ]
     },
     "execution_count": 22,
     "metadata": {},
     "output_type": "execute_result"
    }
   ],
   "source": [
    "#Get type\n",
    "a.dtype"
   ]
  },
  {
   "cell_type": "code",
   "execution_count": 8,
   "id": "6d8c9561-54ce-4447-b5ca-dc882ab089c4",
   "metadata": {},
   "outputs": [
    {
     "data": {
      "text/plain": [
       "dtype('int16')"
      ]
     },
     "execution_count": 8,
     "metadata": {},
     "output_type": "execute_result"
    }
   ],
   "source": [
    "e=np.array([1,2,3],dtype='int16')\n",
    "e.dtype"
   ]
  },
  {
   "cell_type": "code",
   "execution_count": 9,
   "id": "7b043710-fb70-40b9-9c2d-5e4d8ed28739",
   "metadata": {},
   "outputs": [
    {
     "data": {
      "text/plain": [
       "4"
      ]
     },
     "execution_count": 9,
     "metadata": {},
     "output_type": "execute_result"
    }
   ],
   "source": [
    "#Get size\n",
    "b.itemsize"
   ]
  },
  {
   "cell_type": "code",
   "execution_count": 25,
   "id": "3ed39ab9-670a-4970-938b-5d51d6dd0b70",
   "metadata": {},
   "outputs": [
    {
     "name": "stdout",
     "output_type": "stream",
     "text": [
      "1\n",
      "(3,)\n",
      "int32\n",
      "int16\n",
      "4\n"
     ]
    }
   ],
   "source": [
    "# Challenge\n",
    "import numpy as np\n",
    "\n",
    "# Creating numpy arrays (single and multidimensional)\n",
    "c = np.array([1, 2, 3])\n",
    "d = np.array([[9.1, 8.2, 7.3], [2.4, 4.5, 6.7]])\n",
    "\n",
    "# Get dimension of array c\n",
    "print(c.ndim)\n",
    "\n",
    "# Get shape of array c\n",
    "print(c.shape)\n",
    "\n",
    "# Get data type of array a\n",
    "print(c.dtype)\n",
    "\n",
    "# Create an array e with a specific data type\n",
    "e=np.array([10,20,30],dtype='int16')\n",
    "print(e.dtype)\n",
    "\n",
    "# Get size (in bytes) of elements in array b\n",
    "\n",
    "print(b.itemsize)"
   ]
  }
 ],
 "metadata": {
  "kernelspec": {
   "display_name": "Python 3 (ipykernel)",
   "language": "python",
   "name": "python3"
  },
  "language_info": {
   "codemirror_mode": {
    "name": "ipython",
    "version": 3
   },
   "file_extension": ".py",
   "mimetype": "text/x-python",
   "name": "python",
   "nbconvert_exporter": "python",
   "pygments_lexer": "ipython3",
   "version": "3.10.0"
  }
 },
 "nbformat": 4,
 "nbformat_minor": 5
}
