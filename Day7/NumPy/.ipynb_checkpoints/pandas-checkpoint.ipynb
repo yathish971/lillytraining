{
 "cells": [
  {
   "cell_type": "markdown",
   "metadata": {},
   "source": [
    "Pandas "
   ]
  },
  {
   "cell_type": "code",
   "execution_count": 2,
   "metadata": {},
   "outputs": [],
   "source": [
    "import pandas as pd"
   ]
  },
  {
   "cell_type": "code",
   "execution_count": 3,
   "metadata": {},
   "outputs": [
    {
     "name": "stdout",
     "output_type": "stream",
     "text": [
      "2.0.3\n"
     ]
    }
   ],
   "source": [
    "print(pd.__version__)"
   ]
  },
  {
   "cell_type": "code",
   "execution_count": 4,
   "metadata": {},
   "outputs": [
    {
     "name": "stdout",
     "output_type": "stream",
     "text": [
      "Index(['Transaction_date', 'Product', 'Price', 'Payment_Type', 'Name', 'City',\n",
      "       'State', 'Country', 'Account_Created', 'Last_Login', 'Latitude',\n",
      "       'Longitude'],\n",
      "      dtype='object')\n",
      "<bound method DataFrame.isnull of     Transaction_date   Product Price Payment_Type               Name  \\\n",
      "0      1/2/2009 6:17  Product1  1200   Mastercard           carolina   \n",
      "1      1/2/2009 4:53  Product1  1200         Visa             Betina   \n",
      "2     1/2/2009 13:08  Product1  1200   Mastercard  Federica e Andrea   \n",
      "3     1/3/2009 14:44  Product1  1200         Visa              Gouya   \n",
      "4     1/4/2009 12:56  Product2  3600         Visa            Gerd W    \n",
      "..               ...       ...   ...          ...                ...   \n",
      "993  1/22/2009 14:25  Product1  1200         Visa         Hans-Joerg   \n",
      "994   1/28/2009 5:36  Product2  3600         Visa         Christiane   \n",
      "995    1/1/2009 4:24  Product3  7500         Amex             Pamela   \n",
      "996   1/8/2009 11:55  Product1  1200       Diners              julie   \n",
      "997  1/12/2009 21:30  Product1  1200         Visa             Julia    \n",
      "\n",
      "                             City             State         Country  \\\n",
      "0                        Basildon           England  United Kingdom   \n",
      "1    Parkville                                   MO   United States   \n",
      "2    Astoria                                     OR   United States   \n",
      "3                          Echuca          Victoria       Australia   \n",
      "4    Cahaba Heights                              AL   United States   \n",
      "..                            ...               ...             ...   \n",
      "993                       Belfast  Northern Ireland  United Kingdom   \n",
      "994                   Black River       Black River       Mauritius   \n",
      "995  Skaneateles                                 NY   United States   \n",
      "996                     Haverhill           England  United Kingdom   \n",
      "997  Madison                                     WI   United States   \n",
      "\n",
      "      Account_Created      Last_Login   Latitude   Longitude  \n",
      "0       1/2/2009 6:00   1/2/2009 6:08  51.500000   -1.116667  \n",
      "1       1/2/2009 4:42   1/2/2009 7:49  39.195000  -94.681940  \n",
      "2      1/1/2009 16:21  1/3/2009 12:32  46.188060 -123.830000  \n",
      "3     9/25/2005 21:13  1/3/2009 14:22 -36.133333  144.750000  \n",
      "4    11/15/2008 15:47  1/4/2009 12:45  33.520560  -86.802500  \n",
      "..                ...             ...        ...         ...  \n",
      "993  11/10/2008 12:15   3/1/2009 3:37  54.583333   -5.933333  \n",
      "994     1/9/2009 8:10   3/1/2009 4:40 -20.360278   57.366111  \n",
      "995  12/28/2008 17:28   3/1/2009 7:21  42.946940  -76.429440  \n",
      "996  11/29/2006 13:31   3/1/2009 7:28  52.083333    0.433333  \n",
      "997  11/17/2008 22:24  3/1/2009 10:14  43.073060  -89.401110  \n",
      "\n",
      "[998 rows x 12 columns]>\n"
     ]
    }
   ],
   "source": [
    "a=pd.read_csv(\"sales.csv\")\n",
    "print(a.columns)\n",
    "print(a.isnull)\n"
   ]
  },
  {
   "cell_type": "code",
   "execution_count": null,
   "metadata": {},
   "outputs": [],
   "source": [
    "\n"
   ]
  },
  {
   "cell_type": "code",
   "execution_count": null,
   "metadata": {},
   "outputs": [],
   "source": []
  }
 ],
 "metadata": {
  "kernelspec": {
   "display_name": "Python 3",
   "language": "python",
   "name": "python3"
  },
  "language_info": {
   "codemirror_mode": {
    "name": "ipython",
    "version": 3
   },
   "file_extension": ".py",
   "mimetype": "text/x-python",
   "name": "python",
   "nbconvert_exporter": "python",
   "pygments_lexer": "ipython3",
   "version": "3.10.0"
  },
  "orig_nbformat": 4
 },
 "nbformat": 4,
 "nbformat_minor": 2
}
