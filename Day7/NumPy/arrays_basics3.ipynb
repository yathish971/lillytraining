{
 "cells": [
  {
   "cell_type": "markdown",
   "id": "32b09783-d4e7-4b34-9571-1d70d3196a5f",
   "metadata": {},
   "source": [
    "## Broadcasting, Universal Functions, Sorting, and Searching"
   ]
  },
  {
   "cell_type": "code",
   "execution_count": 1,
   "id": "038d2767-34b8-4335-8ecb-a95622238ca4",
   "metadata": {},
   "outputs": [],
   "source": [
    "#import numpy\n",
    "import numpy as np"
   ]
  },
  {
   "cell_type": "code",
   "execution_count": 2,
   "id": "20aa9bde-2a45-47c0-a123-8e423c7e4b2b",
   "metadata": {},
   "outputs": [],
   "source": [
    "a=np.array([1,2,3,4,5])"
   ]
  },
  {
   "cell_type": "code",
   "execution_count": 3,
   "id": "6db66f57-765d-4138-8a2e-64ec0b32524b",
   "metadata": {},
   "outputs": [
    {
     "name": "stdout",
     "output_type": "stream",
     "text": [
      "[3 4 5 6 7]\n"
     ]
    }
   ],
   "source": [
    "# Add 2 to the array\n",
    "add_result=a+2\n",
    "print(add_result)"
   ]
  },
  {
   "cell_type": "code",
   "execution_count": 4,
   "id": "48f3cda9-b570-4564-b5f0-5fb36c3dbfc9",
   "metadata": {},
   "outputs": [
    {
     "name": "stdout",
     "output_type": "stream",
     "text": [
      "[0.5 1.  1.5 2.  2.5]\n"
     ]
    }
   ],
   "source": [
    "# Divide array by 10\n",
    "result=a/2\n",
    "print(result)"
   ]
  },
  {
   "cell_type": "code",
   "execution_count": 5,
   "id": "54b001e0-b948-49cb-bbed-20777a2fe78d",
   "metadata": {},
   "outputs": [
    {
     "name": "stdout",
     "output_type": "stream",
     "text": [
      "[6 7 8]\n"
     ]
    }
   ],
   "source": [
    "a=np.array([1,2,3])\n",
    "b=5\n",
    "print(a+b)"
   ]
  },
  {
   "cell_type": "code",
   "execution_count": 6,
   "id": "ff0d4701-14c5-4156-bc71-0814c378def7",
   "metadata": {},
   "outputs": [
    {
     "name": "stdout",
     "output_type": "stream",
     "text": [
      "[1 2 3]\n",
      "[1 4 9]\n"
     ]
    }
   ],
   "source": [
    "# raise to the power 2\n",
    "print(a)\n",
    "power_result=a**2\n",
    "print(power_result)"
   ]
  },
  {
   "cell_type": "code",
   "execution_count": 7,
   "id": "62b75aa3-c243-4852-8929-66e7c93f106e",
   "metadata": {},
   "outputs": [
    {
     "name": "stdout",
     "output_type": "stream",
     "text": [
      "[0.84147098 0.90929743 0.14112001]\n"
     ]
    }
   ],
   "source": [
    "# sine\n",
    "print(np.sin(a))"
   ]
  },
  {
   "cell_type": "code",
   "execution_count": 8,
   "id": "4b5e1ce7-34e8-4a91-8689-d2760a6c8a27",
   "metadata": {},
   "outputs": [
    {
     "name": "stdout",
     "output_type": "stream",
     "text": [
      "[1 2 4 5 7]\n"
     ]
    }
   ],
   "source": [
    "# Sorting\n",
    "arr = np.array([4, 2, 7, 1, 5])\n",
    "sorted_arr = np.sort(arr)\n",
    "print(sorted_arr)"
   ]
  },
  {
   "cell_type": "code",
   "execution_count": 9,
   "id": "5b23dc6c-2909-463a-b61d-a06fc08ff1f5",
   "metadata": {},
   "outputs": [
    {
     "name": "stdout",
     "output_type": "stream",
     "text": [
      "[[2 4 7]\n",
      " [1 3 5]]\n"
     ]
    }
   ],
   "source": [
    "arr = np.array([[4, 2, 7],\n",
    "                [1, 5, 3]])\n",
    "\n",
    "# Sort each row\n",
    "sorted_arr = np.sort(arr, axis=1)\n",
    "\n",
    "print(sorted_arr)"
   ]
  },
  {
   "cell_type": "code",
   "execution_count": 10,
   "id": "600d6dd7-47c5-4fc8-ad5d-76d015002832",
   "metadata": {},
   "outputs": [
    {
     "name": "stdout",
     "output_type": "stream",
     "text": [
      "[[1 2 3]\n",
      " [4 5 7]]\n"
     ]
    }
   ],
   "source": [
    "import numpy as np\n",
    "\n",
    "arr = np.array([[4, 2, 7],\n",
    "                [1, 5, 3]])\n",
    "\n",
    "# Sort each column\n",
    "sorted_arr = np.sort(arr, axis=0)\n",
    "print(sorted_arr)"
   ]
  },
  {
   "cell_type": "code",
   "execution_count": 11,
   "id": "20638df7-345a-45b7-9e23-98cf03aaf139",
   "metadata": {},
   "outputs": [
    {
     "name": "stdout",
     "output_type": "stream",
     "text": [
      "[3 1 0 4 2]\n"
     ]
    }
   ],
   "source": [
    "# Getting Indices of Sorted Elements\n",
    "arr = np.array([4, 2, 7, 1, 5])\n",
    "sorted_indices = np.argsort(arr)\n",
    "print(sorted_indices)"
   ]
  },
  {
   "cell_type": "code",
   "execution_count": 12,
   "id": "affac584-496d-4133-925c-d57a4e4583e7",
   "metadata": {},
   "outputs": [
    {
     "name": "stdout",
     "output_type": "stream",
     "text": [
      "(array([0, 2, 3], dtype=int64),)\n"
     ]
    }
   ],
   "source": [
    "arr = np.array([10, 5, 8, 12, 3])\n",
    "# Find indices of values satisfying a condition\n",
    "print(np.where(arr > 6))"
   ]
  },
  {
   "cell_type": "code",
   "execution_count": 13,
   "id": "208db8c3-2f47-4045-9522-9b10e0519804",
   "metadata": {},
   "outputs": [
    {
     "name": "stdout",
     "output_type": "stream",
     "text": [
      "[ 3  5  8 10]\n"
     ]
    }
   ],
   "source": [
    "arr = np.array([10, 5, 8, 10, 3, 5])\n",
    "\n",
    "# Get unique values from the array\n",
    "print(np.unique(arr))"
   ]
  },
  {
   "cell_type": "code",
   "execution_count": 14,
   "id": "32f45c8f-9ec3-4155-bafc-b5577519cbf1",
   "metadata": {},
   "outputs": [
    {
     "name": "stdout",
     "output_type": "stream",
     "text": [
      "True\n"
     ]
    }
   ],
   "source": [
    "arr = np.array([10, 5, 8, 12, 3])\n",
    "\n",
    "# Check if a value exists in the array\n",
    "value_to_search = 8\n",
    "result = np.isin(value_to_search, arr)\n",
    "print(result)"
   ]
  },
  {
   "cell_type": "code",
   "execution_count": 15,
   "id": "d00e9f09-3d61-47ba-b961-817f8926f8d2",
   "metadata": {},
   "outputs": [
    {
     "name": "stdout",
     "output_type": "stream",
     "text": [
      "after adding 7  [10 13 16 19 22]\n",
      "after computing cos [-0.9899925   0.96017029 -0.91113026  0.84385396 -0.75968791]\n",
      "After Sorted  [ 3  6  9 12 15]\n",
      "The Number 8 Exist : False\n"
     ]
    }
   ],
   "source": [
    "## Challenge\n",
    "\n",
    "import numpy as np\n",
    "\n",
    "\n",
    "a = np.array([3, 6, 9, 12, 15])\n",
    "\n",
    "\n",
    "# Adding a scalar (7) to each element in the array\n",
    "\n",
    "c=a+7\n",
    "print(\"after adding 7 \",c)\n",
    "\n",
    "# Computing the cos of each element in the array\n",
    "b=np.cos(a)\n",
    "print(\"after computing cos\",b)\n",
    "\n",
    "# Sorting\n",
    "\n",
    "sorted_a = np.sort(a)\n",
    "print(\"After Sorted \",sorted_a)\n",
    "#Searching 8 in the array\n",
    "print(\"The Number 8 Exist :\",np.isin(8,a)) \n"
   ]
  },
  {
   "cell_type": "code",
   "execution_count": null,
   "id": "cd6777ee-13fa-47fe-8181-cf3af48fff0b",
   "metadata": {},
   "outputs": [],
   "source": []
  }
 ],
 "metadata": {
  "kernelspec": {
   "display_name": "Python 3 (ipykernel)",
   "language": "python",
   "name": "python3"
  },
  "language_info": {
   "codemirror_mode": {
    "name": "ipython",
    "version": 3
   },
   "file_extension": ".py",
   "mimetype": "text/x-python",
   "name": "python",
   "nbconvert_exporter": "python",
   "pygments_lexer": "ipython3",
   "version": "3.10.0"
  }
 },
 "nbformat": 4,
 "nbformat_minor": 5
}
