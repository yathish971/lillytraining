{
 "cells": [
  {
   "cell_type": "markdown",
   "id": "87f5e2d7-79b1-4b9b-8726-7d4718ab59f3",
   "metadata": {},
   "source": [
    "## Linear algebra with Numpy: dot product, matrix multiplication, inverse, transpose"
   ]
  },
  {
   "cell_type": "code",
   "execution_count": null,
   "id": "3e00a32c-d3a8-45f3-ad17-45b85fc3e09d",
   "metadata": {},
   "outputs": [],
   "source": [
    "import numpy as np"
   ]
  },
  {
   "cell_type": "code",
   "execution_count": 5,
   "id": "fce2f825-29cf-4515-9632-c807bd7b7f3e",
   "metadata": {},
   "outputs": [
    {
     "name": "stdout",
     "output_type": "stream",
     "text": [
      "23\n"
     ]
    }
   ],
   "source": [
    "import numpy as np\n",
    "\n",
    "a = np.array([2, 3])\n",
    "b = np.array([4, 5])\n",
    "\n",
    "dot_product = np.dot(a, b)\n",
    "print(dot_product)  # Output: 23 (2*4+3*5)\n"
   ]
  },
  {
   "cell_type": "code",
   "execution_count": 2,
   "id": "190f22fe-0aed-451a-8c02-92748f466f91",
   "metadata": {},
   "outputs": [
    {
     "name": "stdout",
     "output_type": "stream",
     "text": [
      "[[36 41]\n",
      " [64 73]]\n"
     ]
    }
   ],
   "source": [
    "import numpy as np\n",
    "\n",
    "A = np.array([[2, 3],\n",
    "              [4, 5]])\n",
    "B = np.array([[6, 7],\n",
    "              [8, 9]])\n",
    "\n",
    "matrix_product = np.matmul(A, B)\n",
    "\n",
    "print(matrix_product)\n",
    "# Output:\n",
    "# [[36 41]\n",
    "#  [64 73]]\n"
   ]
  },
  {
   "cell_type": "raw",
   "id": "72c7eaef-5275-4142-9cba-303489742182",
   "metadata": {},
   "source": [
    "C[0,0]:\n",
    "Row 0 of Matrix A: [2, 3]\n",
    "Column 0 of Matrix B: [6, 8]\n",
    "Dot Product: (2 * 6) + (3 * 8) = 12 + 24 = 36\n",
    "C[0,1]:\n",
    "Row 0 of Matrix A: [2, 3]\n",
    "Column 1 of Matrix B: [7, 9]\n",
    "Dot Product: (2 * 7) + (3 * 9) = 14 + 27 = 41\n",
    "C[1,0]:\n",
    "Row 1 of Matrix A: [4, 5]\n",
    "Column 0 of Matrix B: [6, 8]\n",
    "Dot Product: (4 * 6) + (5 * 8) = 24 + 40 = 64\n",
    "C[1,1]:\n",
    "Row 1 of Matrix A: [4, 5]\n",
    "Column 1 of Matrix B: [7, 9]\n",
    "Dot Product: (4 * 7) + (5 * 9) = 28 + 45 = 73"
   ]
  },
  {
   "cell_type": "code",
   "execution_count": 3,
   "id": "28e36236-f084-413c-ba5d-00bddc952b26",
   "metadata": {},
   "outputs": [
    {
     "name": "stdout",
     "output_type": "stream",
     "text": [
      "[[ 0.6 -0.7]\n",
      " [-0.2  0.4]]\n"
     ]
    }
   ],
   "source": [
    "import numpy as np\n",
    "\n",
    "A = np.array([[4, 7],\n",
    "              [2, 6]])\n",
    "\n",
    "inverse_A = np.linalg.inv(A)\n",
    "print(inverse_A)\n"
   ]
  },
  {
   "cell_type": "markdown",
   "id": "efc772bc-fa70-4105-8a57-88d524614e75",
   "metadata": {},
   "source": [
    "Formula:\n",
    "A⁻¹ = (1 / (ad - bc)) * |  d  -b |\n",
    "                        | -c   a |\n"
   ]
  },
  {
   "cell_type": "code",
   "execution_count": 4,
   "id": "35f59c8d-fc86-4ede-8b95-eb7f921d6d85",
   "metadata": {},
   "outputs": [
    {
     "name": "stdout",
     "output_type": "stream",
     "text": [
      "[[1 3]\n",
      " [2 4]]\n"
     ]
    }
   ],
   "source": [
    "import numpy as np\n",
    "\n",
    "A = np.array([[1, 2],\n",
    "              [3, 4]])\n",
    "\n",
    "transpose_A = A.T\n",
    "\n",
    "print(transpose_A)\n",
    "# Output:\n",
    "# [[1 3]\n",
    "#  [2 4]]\n"
   ]
  }
 ],
 "metadata": {
  "kernelspec": {
   "display_name": "Python 3 (ipykernel)",
   "language": "python",
   "name": "python3"
  },
  "language_info": {
   "codemirror_mode": {
    "name": "ipython",
    "version": 3
   },
   "file_extension": ".py",
   "mimetype": "text/x-python",
   "name": "python",
   "nbconvert_exporter": "python",
   "pygments_lexer": "ipython3",
   "version": "3.10.0"
  }
 },
 "nbformat": 4,
 "nbformat_minor": 5
}
