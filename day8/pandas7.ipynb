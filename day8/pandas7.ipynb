{
 "cells": [
  {
   "cell_type": "markdown",
   "id": "d0dc564a-414e-4fc6-ad0d-8519d21ba745",
   "metadata": {},
   "source": [
    "## Aggregating and grouping data: groupby and aggregate methods"
   ]
  },
  {
   "cell_type": "code",
   "execution_count": 1,
   "id": "7e2dbdde-7f4d-4aeb-be9f-296de0db80f8",
   "metadata": {},
   "outputs": [],
   "source": [
    "import pandas as pd"
   ]
  },
  {
   "cell_type": "code",
   "execution_count": 11,
   "id": "ff4690cc-f622-4a51-88e8-0bdeab7e1cb7",
   "metadata": {},
   "outputs": [
    {
     "name": "stdout",
     "output_type": "stream",
     "text": [
      "   StudentID        Name  Age  Gender  Score\n",
      "0      ST001   Student 1   20  Female     55\n",
      "1      ST002   Student 2   18    Male     56\n",
      "2      ST003   Student 3   23    Male     99\n",
      "3      ST004   Student 4   22    Male     57\n",
      "4      ST005   Student 5   23  Female     98\n",
      "5      ST006   Student 6   25    Male     67\n",
      "6      ST007   Student 7   22  Female     73\n",
      "7      ST008   Student 8   25  Female     74\n",
      "8      ST009   Student 9   20  Female     84\n",
      "9      ST010  Student 10   23    Male     77\n",
      "10     ST011  Student 11   19    Male     99\n",
      "11     ST012  Student 12   19    Male     78\n",
      "12     ST013  Student 13   20  Female     75\n",
      "13     ST014  Student 14   25  Female     84\n",
      "14     ST015  Student 15   18  Female     99\n",
      "15     ST016  Student 16   25  Female     67\n",
      "16     ST017  Student 17   23    Male     88\n",
      "17     ST018  Student 18   21    Male     62\n",
      "18     ST019  Student 19   18    Male    100\n",
      "19     ST020  Student 20   21    Male     53\n"
     ]
    }
   ],
   "source": [
    "# Read from student_data.xlsx\n",
    "df=pd.read_excel(\"student_data.xlsx\")\n",
    "print(df)"
   ]
  },
  {
   "cell_type": "code",
   "execution_count": 6,
   "id": "98dd5e2b-761b-451b-8d5d-f2672f178cc2",
   "metadata": {},
   "outputs": [
    {
     "data": {
      "text/plain": [
       "{53: [19], 55: [0], 56: [1], 57: [3], 62: [17], 67: [5, 15], 73: [6], 74: [7], 75: [12], 77: [9], 78: [11], 84: [8, 13], 88: [16], 98: [4], 99: [2, 10, 14], 100: [18]}"
      ]
     },
     "execution_count": 6,
     "metadata": {},
     "output_type": "execute_result"
    }
   ],
   "source": [
    "# Try to group by the 'Score' and observe the result\n",
    "df.groupby('Score').groups"
   ]
  },
  {
   "cell_type": "code",
   "execution_count": 14,
   "id": "eb5fd51a-6bac-4b77-aece-52e4cb1205e3",
   "metadata": {},
   "outputs": [
    {
     "name": "stdout",
     "output_type": "stream",
     "text": [
      "         Score\n",
      "Age           \n",
      "18   85.000000\n",
      "19   88.500000\n",
      "20   71.333333\n",
      "21   57.500000\n",
      "22   65.000000\n",
      "23   90.500000\n",
      "25   73.000000\n"
     ]
    }
   ],
   "source": [
    "# Group the data by 'Age' and calculate the mean for other numeric columns\n",
    "print(df.groupby('Age').agg({'Score':'mean'}))\n",
    "\n"
   ]
  },
  {
   "cell_type": "code",
   "execution_count": 17,
   "id": "2599223d-39ad-4a8b-8282-d4179e18f912",
   "metadata": {},
   "outputs": [
    {
     "name": "stdout",
     "output_type": "stream",
     "text": [
      "              Age      Score\n",
      "Gender                      \n",
      "Female  22.000000  78.777778\n",
      "Male    21.090909  76.000000\n"
     ]
    }
   ],
   "source": [
    "# Calculate the average of Age and Score for each Gender\n",
    "print(df.groupby('Gender').agg({'Age':'mean',\"Score\":\"mean\"}))\n"
   ]
  },
  {
   "cell_type": "code",
   "execution_count": null,
   "id": "5a5be1ea-fb47-480a-9472-f3ab146d4c2f",
   "metadata": {},
   "outputs": [],
   "source": []
  }
 ],
 "metadata": {
  "kernelspec": {
   "display_name": "Python 3 (ipykernel)",
   "language": "python",
   "name": "python3"
  },
  "language_info": {
   "codemirror_mode": {
    "name": "ipython",
    "version": 3
   },
   "file_extension": ".py",
   "mimetype": "text/x-python",
   "name": "python",
   "nbconvert_exporter": "python",
   "pygments_lexer": "ipython3",
   "version": "3.10.0"
  }
 },
 "nbformat": 4,
 "nbformat_minor": 5
}
