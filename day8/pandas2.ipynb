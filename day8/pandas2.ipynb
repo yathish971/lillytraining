{
 "cells": [
  {
   "cell_type": "markdown",
   "id": "42c77c1d-c664-49f5-8b36-6656a6301bb6",
   "metadata": {},
   "source": [
    "## DataFrame Objects"
   ]
  },
  {
   "cell_type": "code",
   "execution_count": 2,
   "id": "2fe1732d-15c4-48f9-9a05-4ea6a8b68d44",
   "metadata": {},
   "outputs": [],
   "source": [
    "# Import Pandas\n",
    "import pandas as pd"
   ]
  },
  {
   "cell_type": "code",
   "execution_count": 3,
   "id": "40ddd8c1-f470-408b-9dd7-cbd96310a993",
   "metadata": {},
   "outputs": [],
   "source": [
    "# Creating a dictionary\n",
    "data = {\n",
    "    'Name': ['Alice', 'Bob', 'Charlie'],\n",
    "    'Age': [25, 30, 22],\n",
    "    'Gender': ['Female', 'Male', 'Male']\n",
    "}"
   ]
  },
  {
   "cell_type": "code",
   "execution_count": 16,
   "id": "a7f4a35e-167c-4c05-b7cd-e0dc21462ae0",
   "metadata": {},
   "outputs": [],
   "source": [
    "# Creating a DataFrame from the dictionary\n",
    "DFrame=pd.DataFrame(data)"
   ]
  },
  {
   "cell_type": "code",
   "execution_count": 21,
   "id": "40c680a6-29a1-4939-8b1f-a8cfef746a47",
   "metadata": {},
   "outputs": [],
   "source": [
    "# Creating a DataFrame from the dictionary using index\n",
    "DFrame=pd.DataFrame(data,index=[\"a\",\"b\",'c'])"
   ]
  },
  {
   "cell_type": "code",
   "execution_count": 18,
   "id": "6ce6fc6a-efec-4cda-9ca8-f58bc400d390",
   "metadata": {},
   "outputs": [
    {
     "data": {
      "text/plain": [
       "0      Alice\n",
       "1        Bob\n",
       "2    Charlie\n",
       "Name: Name, dtype: object"
      ]
     },
     "execution_count": 18,
     "metadata": {},
     "output_type": "execute_result"
    }
   ],
   "source": [
    "# Accessing all the Names (both the ways)\n",
    "#DFrame['Name']\n",
    "DFrame.Name"
   ]
  },
  {
   "cell_type": "code",
   "execution_count": 19,
   "id": "6192c41f-c4d7-4585-9be8-9619294653bc",
   "metadata": {},
   "outputs": [
    {
     "name": "stdout",
     "output_type": "stream",
     "text": [
      "      Name  Age  Gender\n",
      "0    Alice   26  Female\n",
      "1      Bob   31    Male\n",
      "2  Charlie   23    Male\n"
     ]
    }
   ],
   "source": [
    "# Increase the age by 1\n",
    "DFrame.Age=DFrame.Age+1\n",
    "print(DFrame)"
   ]
  },
  {
   "cell_type": "code",
   "execution_count": null,
   "id": "c021ac66-b26c-4a65-b10b-343f2fa00911",
   "metadata": {},
   "outputs": [],
   "source": []
  }
 ],
 "metadata": {
  "kernelspec": {
   "display_name": "Python 3 (ipykernel)",
   "language": "python",
   "name": "python3"
  },
  "language_info": {
   "codemirror_mode": {
    "name": "ipython",
    "version": 3
   },
   "file_extension": ".py",
   "mimetype": "text/x-python",
   "name": "python",
   "nbconvert_exporter": "python",
   "pygments_lexer": "ipython3",
   "version": "3.10.0"
  }
 },
 "nbformat": 4,
 "nbformat_minor": 5
}
