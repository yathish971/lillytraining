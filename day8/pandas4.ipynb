{
 "cells": [
  {
   "cell_type": "markdown",
   "id": "be20a2bb-0370-4df7-90bd-2a7d7edf5b51",
   "metadata": {},
   "source": [
    "## Exploring data: head, tail, info, describe, and value_counts methods"
   ]
  },
  {
   "cell_type": "code",
   "execution_count": 8,
   "id": "5f50ba73-c310-4adf-b9dd-5ad8b65219a7",
   "metadata": {},
   "outputs": [],
   "source": [
    "# Import Pandas\n",
    "import pandas as pd \n",
    "import numpy as np"
   ]
  },
  {
   "cell_type": "code",
   "execution_count": 2,
   "id": "4a6ac639-b96b-42c5-9004-64fc4b331fd2",
   "metadata": {},
   "outputs": [],
   "source": [
    "# Read the data from \"data.csv\"\n",
    "data_csv=pd.read_csv(\"data.csv\")"
   ]
  },
  {
   "cell_type": "code",
   "execution_count": 3,
   "id": "8707eef2-84ed-4d5c-8ddb-98cb863b3b8b",
   "metadata": {},
   "outputs": [
    {
     "name": "stdout",
     "output_type": "stream",
     "text": [
      "       Name  Age  Gender           City  Salary\n",
      "0     Alice   25  Female       New York   60000\n",
      "1       Bob   30    Male  San Francisco   80000\n",
      "2   Charlie   22    Male    Los Angeles   55000\n",
      "3     David   28    Male        Chicago   75000\n",
      "4       Eve   35  Female         Boston   90000\n",
      "5     Frank   29    Male        Seattle   72000\n",
      "6     Grace   31  Female         Austin   85000\n",
      "7    Hannah   26  Female         Denver   68000\n",
      "8     Isaac   27    Male          Miami   62000\n",
      "9     Julia   24  Female       Portland   57000\n",
      "10    Karen   33  Female        Houston   78000\n",
      "11     Liam   23    Male         Dallas   60000\n",
      "12    Megan   29  Female        Phoenix   71000\n",
      "13     Noah   32    Male        Atlanta   84000\n",
      "14   Olivia   28  Female        Chicago   78000\n",
      "15    Peter   25    Male         Boston   65000\n",
      "16    Quinn   29    Male        Seattle   72000\n",
      "17   Rachel   27  Female  San Francisco   95000\n",
      "18      Sam   30    Male    Los Angeles   58000\n",
      "19   Taylor   26    Male         Denver   71000\n",
      "20      Uma   24  Female       New York   67000\n",
      "21    Vince   31    Male          Miami   74000\n",
      "22    Wendy   34  Female        Houston   89000\n",
      "23   Xander   28    Male         Dallas   62000\n",
      "24     Yara   23  Female         Austin   61000\n",
      "25     Zane   25    Male        Phoenix   66000\n"
     ]
    }
   ],
   "source": [
    "# Print the result\n",
    "print(data_csv)\n"
   ]
  },
  {
   "cell_type": "code",
   "execution_count": 4,
   "id": "4b9e8791-dd9a-4ee8-822f-a0a665dadc84",
   "metadata": {},
   "outputs": [
    {
     "data": {
      "text/html": [
       "<div>\n",
       "<style scoped>\n",
       "    .dataframe tbody tr th:only-of-type {\n",
       "        vertical-align: middle;\n",
       "    }\n",
       "\n",
       "    .dataframe tbody tr th {\n",
       "        vertical-align: top;\n",
       "    }\n",
       "\n",
       "    .dataframe thead th {\n",
       "        text-align: right;\n",
       "    }\n",
       "</style>\n",
       "<table border=\"1\" class=\"dataframe\">\n",
       "  <thead>\n",
       "    <tr style=\"text-align: right;\">\n",
       "      <th></th>\n",
       "      <th>Name</th>\n",
       "      <th>Age</th>\n",
       "      <th>Gender</th>\n",
       "      <th>City</th>\n",
       "      <th>Salary</th>\n",
       "    </tr>\n",
       "  </thead>\n",
       "  <tbody>\n",
       "    <tr>\n",
       "      <th>0</th>\n",
       "      <td>Alice</td>\n",
       "      <td>25</td>\n",
       "      <td>Female</td>\n",
       "      <td>New York</td>\n",
       "      <td>60000</td>\n",
       "    </tr>\n",
       "    <tr>\n",
       "      <th>1</th>\n",
       "      <td>Bob</td>\n",
       "      <td>30</td>\n",
       "      <td>Male</td>\n",
       "      <td>San Francisco</td>\n",
       "      <td>80000</td>\n",
       "    </tr>\n",
       "    <tr>\n",
       "      <th>2</th>\n",
       "      <td>Charlie</td>\n",
       "      <td>22</td>\n",
       "      <td>Male</td>\n",
       "      <td>Los Angeles</td>\n",
       "      <td>55000</td>\n",
       "    </tr>\n",
       "    <tr>\n",
       "      <th>3</th>\n",
       "      <td>David</td>\n",
       "      <td>28</td>\n",
       "      <td>Male</td>\n",
       "      <td>Chicago</td>\n",
       "      <td>75000</td>\n",
       "    </tr>\n",
       "    <tr>\n",
       "      <th>4</th>\n",
       "      <td>Eve</td>\n",
       "      <td>35</td>\n",
       "      <td>Female</td>\n",
       "      <td>Boston</td>\n",
       "      <td>90000</td>\n",
       "    </tr>\n",
       "  </tbody>\n",
       "</table>\n",
       "</div>"
      ],
      "text/plain": [
       "      Name  Age  Gender           City  Salary\n",
       "0    Alice   25  Female       New York   60000\n",
       "1      Bob   30    Male  San Francisco   80000\n",
       "2  Charlie   22    Male    Los Angeles   55000\n",
       "3    David   28    Male        Chicago   75000\n",
       "4      Eve   35  Female         Boston   90000"
      ]
     },
     "execution_count": 4,
     "metadata": {},
     "output_type": "execute_result"
    }
   ],
   "source": [
    "# Get the first 5 rows \n",
    "data_csv.head(5)"
   ]
  },
  {
   "cell_type": "code",
   "execution_count": 5,
   "id": "a482f749-707d-4a0d-bf8c-0005819d46b7",
   "metadata": {},
   "outputs": [
    {
     "data": {
      "text/html": [
       "<div>\n",
       "<style scoped>\n",
       "    .dataframe tbody tr th:only-of-type {\n",
       "        vertical-align: middle;\n",
       "    }\n",
       "\n",
       "    .dataframe tbody tr th {\n",
       "        vertical-align: top;\n",
       "    }\n",
       "\n",
       "    .dataframe thead th {\n",
       "        text-align: right;\n",
       "    }\n",
       "</style>\n",
       "<table border=\"1\" class=\"dataframe\">\n",
       "  <thead>\n",
       "    <tr style=\"text-align: right;\">\n",
       "      <th></th>\n",
       "      <th>Name</th>\n",
       "      <th>Age</th>\n",
       "      <th>Gender</th>\n",
       "      <th>City</th>\n",
       "      <th>Salary</th>\n",
       "    </tr>\n",
       "  </thead>\n",
       "  <tbody>\n",
       "    <tr>\n",
       "      <th>21</th>\n",
       "      <td>Vince</td>\n",
       "      <td>31</td>\n",
       "      <td>Male</td>\n",
       "      <td>Miami</td>\n",
       "      <td>74000</td>\n",
       "    </tr>\n",
       "    <tr>\n",
       "      <th>22</th>\n",
       "      <td>Wendy</td>\n",
       "      <td>34</td>\n",
       "      <td>Female</td>\n",
       "      <td>Houston</td>\n",
       "      <td>89000</td>\n",
       "    </tr>\n",
       "    <tr>\n",
       "      <th>23</th>\n",
       "      <td>Xander</td>\n",
       "      <td>28</td>\n",
       "      <td>Male</td>\n",
       "      <td>Dallas</td>\n",
       "      <td>62000</td>\n",
       "    </tr>\n",
       "    <tr>\n",
       "      <th>24</th>\n",
       "      <td>Yara</td>\n",
       "      <td>23</td>\n",
       "      <td>Female</td>\n",
       "      <td>Austin</td>\n",
       "      <td>61000</td>\n",
       "    </tr>\n",
       "    <tr>\n",
       "      <th>25</th>\n",
       "      <td>Zane</td>\n",
       "      <td>25</td>\n",
       "      <td>Male</td>\n",
       "      <td>Phoenix</td>\n",
       "      <td>66000</td>\n",
       "    </tr>\n",
       "  </tbody>\n",
       "</table>\n",
       "</div>"
      ],
      "text/plain": [
       "      Name  Age  Gender     City  Salary\n",
       "21   Vince   31    Male    Miami   74000\n",
       "22   Wendy   34  Female  Houston   89000\n",
       "23  Xander   28    Male   Dallas   62000\n",
       "24    Yara   23  Female   Austin   61000\n",
       "25    Zane   25    Male  Phoenix   66000"
      ]
     },
     "execution_count": 5,
     "metadata": {},
     "output_type": "execute_result"
    }
   ],
   "source": [
    "# Get the last 5 rows\n",
    "data_csv.tail(5)"
   ]
  },
  {
   "cell_type": "code",
   "execution_count": 7,
   "id": "a4b10c84-f259-4056-a91f-c2126a22ade2",
   "metadata": {},
   "outputs": [
    {
     "name": "stdout",
     "output_type": "stream",
     "text": [
      "<class 'pandas.core.frame.DataFrame'>\n",
      "RangeIndex: 26 entries, 0 to 25\n",
      "Data columns (total 5 columns):\n",
      " #   Column  Non-Null Count  Dtype \n",
      "---  ------  --------------  ----- \n",
      " 0   Name    26 non-null     object\n",
      " 1   Age     26 non-null     int64 \n",
      " 2   Gender  26 non-null     object\n",
      " 3   City    26 non-null     object\n",
      " 4   Salary  26 non-null     int64 \n",
      "dtypes: int64(2), object(3)\n",
      "memory usage: 1.1+ KB\n"
     ]
    }
   ],
   "source": [
    "# Print the summary of the dataframe\n",
    "data_csv.info()"
   ]
  },
  {
   "cell_type": "code",
   "execution_count": 10,
   "id": "e07ba0bd-adef-426e-985a-a89e3863786c",
   "metadata": {},
   "outputs": [
    {
     "data": {
      "text/html": [
       "<div>\n",
       "<style scoped>\n",
       "    .dataframe tbody tr th:only-of-type {\n",
       "        vertical-align: middle;\n",
       "    }\n",
       "\n",
       "    .dataframe tbody tr th {\n",
       "        vertical-align: top;\n",
       "    }\n",
       "\n",
       "    .dataframe thead th {\n",
       "        text-align: right;\n",
       "    }\n",
       "</style>\n",
       "<table border=\"1\" class=\"dataframe\">\n",
       "  <thead>\n",
       "    <tr style=\"text-align: right;\">\n",
       "      <th></th>\n",
       "      <th>Age</th>\n",
       "      <th>Salary</th>\n",
       "    </tr>\n",
       "  </thead>\n",
       "  <tbody>\n",
       "    <tr>\n",
       "      <th>count</th>\n",
       "      <td>26.000000</td>\n",
       "      <td>26.000000</td>\n",
       "    </tr>\n",
       "    <tr>\n",
       "      <th>mean</th>\n",
       "      <td>27.846154</td>\n",
       "      <td>71346.153846</td>\n",
       "    </tr>\n",
       "    <tr>\n",
       "      <th>std</th>\n",
       "      <td>3.517866</td>\n",
       "      <td>11027.029728</td>\n",
       "    </tr>\n",
       "    <tr>\n",
       "      <th>min</th>\n",
       "      <td>22.000000</td>\n",
       "      <td>55000.000000</td>\n",
       "    </tr>\n",
       "    <tr>\n",
       "      <th>25%</th>\n",
       "      <td>25.000000</td>\n",
       "      <td>62000.000000</td>\n",
       "    </tr>\n",
       "    <tr>\n",
       "      <th>50%</th>\n",
       "      <td>28.000000</td>\n",
       "      <td>71000.000000</td>\n",
       "    </tr>\n",
       "    <tr>\n",
       "      <th>75%</th>\n",
       "      <td>30.000000</td>\n",
       "      <td>78000.000000</td>\n",
       "    </tr>\n",
       "    <tr>\n",
       "      <th>max</th>\n",
       "      <td>35.000000</td>\n",
       "      <td>95000.000000</td>\n",
       "    </tr>\n",
       "  </tbody>\n",
       "</table>\n",
       "</div>"
      ],
      "text/plain": [
       "             Age        Salary\n",
       "count  26.000000     26.000000\n",
       "mean   27.846154  71346.153846\n",
       "std     3.517866  11027.029728\n",
       "min    22.000000  55000.000000\n",
       "25%    25.000000  62000.000000\n",
       "50%    28.000000  71000.000000\n",
       "75%    30.000000  78000.000000\n",
       "max    35.000000  95000.000000"
      ]
     },
     "execution_count": 10,
     "metadata": {},
     "output_type": "execute_result"
    }
   ],
   "source": [
    "# Print the statisctics of the dataframe\n",
    "data_csv.describe()"
   ]
  },
  {
   "cell_type": "code",
   "execution_count": 14,
   "id": "80f8e6c9-18e1-4a5a-8ac4-055bc18aacc6",
   "metadata": {},
   "outputs": [
    {
     "name": "stdout",
     "output_type": "stream",
     "text": [
      "Gender\n",
      "Male      14\n",
      "Female    12\n",
      "Name: count, dtype: int64\n"
     ]
    }
   ],
   "source": [
    "# Print the male and female count\n",
    "print(data_csv['Gender'].value_counts())"
   ]
  },
  {
   "cell_type": "code",
   "execution_count": 9,
   "id": "40320e0a-a684-4aff-947f-dc809d401290",
   "metadata": {},
   "outputs": [
    {
     "name": "stdout",
     "output_type": "stream",
     "text": [
      "max age  35  avg_salary  71346.15384615384\n"
     ]
    }
   ],
   "source": [
    "# Challenge\n",
    "\n",
    "# Get max age\n",
    "max_age= np.max(data_csv.Age)\n",
    "\n",
    "# Get Average salary\n",
    "avg_salary=np.average(data_csv.Salary)\n",
    "print(\"max age \", max_age ,\" avg_salary \",avg_salary)\n",
    "\n"
   ]
  },
  {
   "cell_type": "code",
   "execution_count": null,
   "id": "d724cc98-a2af-478e-aa90-d1fcc18f1a9d",
   "metadata": {},
   "outputs": [],
   "source": []
  }
 ],
 "metadata": {
  "kernelspec": {
   "display_name": "Python 3 (ipykernel)",
   "language": "python",
   "name": "python3"
  },
  "language_info": {
   "codemirror_mode": {
    "name": "ipython",
    "version": 3
   },
   "file_extension": ".py",
   "mimetype": "text/x-python",
   "name": "python",
   "nbconvert_exporter": "python",
   "pygments_lexer": "ipython3",
   "version": "3.10.0"
  }
 },
 "nbformat": 4,
 "nbformat_minor": 5
}
