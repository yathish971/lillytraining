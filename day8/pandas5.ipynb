{
 "cells": [
  {
   "cell_type": "markdown",
   "id": "3898800f-3c03-417f-a5a7-e3c84f133869",
   "metadata": {},
   "source": [
    "## Filtering and sorting data: boolean indexing and sorting methods"
   ]
  },
  {
   "cell_type": "code",
   "execution_count": 2,
   "id": "329cd4f6-8179-462b-b23f-04d4de92c31c",
   "metadata": {},
   "outputs": [],
   "source": [
    "# Import pandas\n",
    "import pandas as pd"
   ]
  },
  {
   "cell_type": "code",
   "execution_count": null,
   "id": "dea95e9f-f99e-4b5b-bfc5-f22cd684127f",
   "metadata": {},
   "outputs": [],
   "source": []
  },
  {
   "cell_type": "raw",
   "id": "79a7fe8c-ce72-4001-a7b4-6a79a74d4aec",
   "metadata": {},
   "source": [
    "# Read the data from \"student_data.xlsx\""
   ]
  },
  {
   "cell_type": "code",
   "execution_count": 3,
   "id": "f8d49a77-29a3-4e69-96e1-bed56bd4bf33",
   "metadata": {},
   "outputs": [],
   "source": [
    "df=pd.read_excel(\"student_data.xlsx\")"
   ]
  },
  {
   "cell_type": "code",
   "execution_count": 4,
   "id": "bf67e9a8-8abe-4442-a77e-ff67eb3bd11d",
   "metadata": {},
   "outputs": [
    {
     "name": "stdout",
     "output_type": "stream",
     "text": [
      "   StudentID        Name  Age  Gender  Score\n",
      "0      ST001   Student 1   20  Female     55\n",
      "1      ST002   Student 2   18    Male     56\n",
      "2      ST003   Student 3   23    Male     99\n",
      "3      ST004   Student 4   22    Male     57\n",
      "4      ST005   Student 5   23  Female     98\n",
      "5      ST006   Student 6   25    Male     67\n",
      "6      ST007   Student 7   22  Female     73\n",
      "7      ST008   Student 8   25  Female     74\n",
      "8      ST009   Student 9   20  Female     84\n",
      "9      ST010  Student 10   23    Male     77\n",
      "10     ST011  Student 11   19    Male     99\n",
      "11     ST012  Student 12   19    Male     78\n",
      "12     ST013  Student 13   20  Female     75\n",
      "13     ST014  Student 14   25  Female     84\n",
      "14     ST015  Student 15   18  Female     99\n",
      "15     ST016  Student 16   25  Female     67\n",
      "16     ST017  Student 17   23    Male     88\n",
      "17     ST018  Student 18   21    Male     62\n",
      "18     ST019  Student 19   18    Male    100\n",
      "19     ST020  Student 20   21    Male     53\n"
     ]
    }
   ],
   "source": [
    "# Print the result\n",
    "print(df)"
   ]
  },
  {
   "cell_type": "code",
   "execution_count": 5,
   "id": "8e490173-849e-4b81-840b-ccb2affa39f0",
   "metadata": {},
   "outputs": [
    {
     "name": "stdout",
     "output_type": "stream",
     "text": [
      "   StudentID        Name  Age  Gender  Score\n",
      "0      ST001   Student 1   20  Female     55\n",
      "2      ST003   Student 3   23    Male     99\n",
      "3      ST004   Student 4   22    Male     57\n",
      "4      ST005   Student 5   23  Female     98\n",
      "5      ST006   Student 6   25    Male     67\n",
      "6      ST007   Student 7   22  Female     73\n",
      "7      ST008   Student 8   25  Female     74\n",
      "8      ST009   Student 9   20  Female     84\n",
      "9      ST010  Student 10   23    Male     77\n",
      "12     ST013  Student 13   20  Female     75\n",
      "13     ST014  Student 14   25  Female     84\n",
      "15     ST016  Student 16   25  Female     67\n",
      "16     ST017  Student 17   23    Male     88\n",
      "17     ST018  Student 18   21    Male     62\n",
      "19     ST020  Student 20   21    Male     53\n"
     ]
    }
   ],
   "source": [
    "# Print the rows where Age is greater than 20\n",
    "mask = df.Age >=20\n",
    "Filtered_Data=df[mask]\n",
    "print(Filtered_Data)"
   ]
  },
  {
   "cell_type": "code",
   "execution_count": 8,
   "id": "6366ffd4-f29e-447a-ae07-3c5322f4f884",
   "metadata": {},
   "outputs": [
    {
     "name": "stdout",
     "output_type": "stream",
     "text": [
      "   StudentID        Name  Age  Gender  Score\n",
      "0      ST001   Student 1   20  Female     55\n",
      "4      ST005   Student 5   23  Female     98\n",
      "6      ST007   Student 7   22  Female     73\n",
      "8      ST009   Student 9   20  Female     84\n",
      "12     ST013  Student 13   20  Female     75\n",
      "14     ST015  Student 15   18  Female     99\n"
     ]
    }
   ],
   "source": [
    "# Select rows where Gender is 'Female' and Age is less than 25\n",
    "mask = (df.Gender=='Female')&(df.Age<25)\n",
    "Filtered_Data=df[mask]\n",
    "print(Filtered_Data)"
   ]
  },
  {
   "cell_type": "code",
   "execution_count": 11,
   "id": "b76fca39-86b2-4e40-ac36-d0c89d3b5076",
   "metadata": {},
   "outputs": [
    {
     "name": "stdout",
     "output_type": "stream",
     "text": [
      "   StudentID        Name  Age  Gender  Score\n",
      "1      ST002   Student 2   18    Male     56\n",
      "14     ST015  Student 15   18  Female     99\n",
      "18     ST019  Student 19   18    Male    100\n",
      "11     ST012  Student 12   19    Male     78\n",
      "10     ST011  Student 11   19    Male     99\n",
      "0      ST001   Student 1   20  Female     55\n",
      "12     ST013  Student 13   20  Female     75\n",
      "8      ST009   Student 9   20  Female     84\n",
      "17     ST018  Student 18   21    Male     62\n",
      "19     ST020  Student 20   21    Male     53\n",
      "6      ST007   Student 7   22  Female     73\n",
      "3      ST004   Student 4   22    Male     57\n",
      "4      ST005   Student 5   23  Female     98\n",
      "16     ST017  Student 17   23    Male     88\n",
      "2      ST003   Student 3   23    Male     99\n",
      "9      ST010  Student 10   23    Male     77\n",
      "5      ST006   Student 6   25    Male     67\n",
      "13     ST014  Student 14   25  Female     84\n",
      "15     ST016  Student 16   25  Female     67\n",
      "7      ST008   Student 8   25  Female     74\n"
     ]
    }
   ],
   "source": [
    "# Sort the DataFrame by Age in ascending order\n",
    "print(df.sort_values(by=['Age']))"
   ]
  },
  {
   "cell_type": "code",
   "execution_count": 12,
   "id": "51eb0ef7-68e4-4e91-b991-f5fd6b388caa",
   "metadata": {},
   "outputs": [
    {
     "name": "stdout",
     "output_type": "stream",
     "text": [
      "   StudentID        Name  Age  Gender  Score\n",
      "13     ST014  Student 14   25  Female     84\n",
      "5      ST006   Student 6   25    Male     67\n",
      "7      ST008   Student 8   25  Female     74\n",
      "15     ST016  Student 16   25  Female     67\n",
      "2      ST003   Student 3   23    Male     99\n",
      "4      ST005   Student 5   23  Female     98\n",
      "9      ST010  Student 10   23    Male     77\n",
      "16     ST017  Student 17   23    Male     88\n",
      "3      ST004   Student 4   22    Male     57\n",
      "6      ST007   Student 7   22  Female     73\n",
      "19     ST020  Student 20   21    Male     53\n",
      "17     ST018  Student 18   21    Male     62\n",
      "0      ST001   Student 1   20  Female     55\n",
      "12     ST013  Student 13   20  Female     75\n",
      "8      ST009   Student 9   20  Female     84\n",
      "11     ST012  Student 12   19    Male     78\n",
      "10     ST011  Student 11   19    Male     99\n",
      "14     ST015  Student 15   18  Female     99\n",
      "1      ST002   Student 2   18    Male     56\n",
      "18     ST019  Student 19   18    Male    100\n"
     ]
    }
   ],
   "source": [
    "# Sort the DataFrame by Age in descending order\n",
    "print(df.sort_values(by=['Age'],ascending=False))"
   ]
  },
  {
   "cell_type": "code",
   "execution_count": 14,
   "id": "c7056386-3604-41d1-8a68-d121ca7e8968",
   "metadata": {},
   "outputs": [
    {
     "name": "stdout",
     "output_type": "stream",
     "text": [
      "   StudentID        Name  Age  Gender  Score\n",
      "0      ST001   Student 1   20  Female     55\n",
      "1      ST002   Student 2   18    Male     56\n",
      "2      ST003   Student 3   23    Male     99\n",
      "3      ST004   Student 4   22    Male     57\n",
      "4      ST005   Student 5   23  Female     98\n",
      "5      ST006   Student 6   25    Male     67\n",
      "6      ST007   Student 7   22  Female     73\n",
      "7      ST008   Student 8   25  Female     74\n",
      "8      ST009   Student 9   20  Female     84\n",
      "9      ST010  Student 10   23    Male     77\n",
      "10     ST011  Student 11   19    Male     99\n",
      "11     ST012  Student 12   19    Male     78\n",
      "12     ST013  Student 13   20  Female     75\n",
      "13     ST014  Student 14   25  Female     84\n",
      "14     ST015  Student 15   18  Female     99\n",
      "15     ST016  Student 16   25  Female     67\n",
      "16     ST017  Student 17   23    Male     88\n",
      "17     ST018  Student 18   21    Male     62\n",
      "18     ST019  Student 19   18    Male    100\n",
      "19     ST020  Student 20   21    Male     53\n"
     ]
    }
   ],
   "source": [
    "# Sort the DataFrame by index in ascending order\n",
    "print(df.sort_index())"
   ]
  },
  {
   "cell_type": "code",
   "execution_count": 15,
   "id": "0580af22-da98-4ddd-9c8d-03c2e90c4146",
   "metadata": {},
   "outputs": [
    {
     "name": "stdout",
     "output_type": "stream",
     "text": [
      "   StudentID        Name  Age  Gender  Score\n",
      "19     ST020  Student 20   21    Male     53\n",
      "18     ST019  Student 19   18    Male    100\n",
      "17     ST018  Student 18   21    Male     62\n",
      "16     ST017  Student 17   23    Male     88\n",
      "15     ST016  Student 16   25  Female     67\n",
      "14     ST015  Student 15   18  Female     99\n",
      "13     ST014  Student 14   25  Female     84\n",
      "12     ST013  Student 13   20  Female     75\n",
      "11     ST012  Student 12   19    Male     78\n",
      "10     ST011  Student 11   19    Male     99\n",
      "9      ST010  Student 10   23    Male     77\n",
      "8      ST009   Student 9   20  Female     84\n",
      "7      ST008   Student 8   25  Female     74\n",
      "6      ST007   Student 7   22  Female     73\n",
      "5      ST006   Student 6   25    Male     67\n",
      "4      ST005   Student 5   23  Female     98\n",
      "3      ST004   Student 4   22    Male     57\n",
      "2      ST003   Student 3   23    Male     99\n",
      "1      ST002   Student 2   18    Male     56\n",
      "0      ST001   Student 1   20  Female     55\n"
     ]
    }
   ],
   "source": [
    "# Sort the DataFrame by index in descending order\n",
    "print(df.sort_index(ascending=False))"
   ]
  },
  {
   "cell_type": "code",
   "execution_count": null,
   "id": "7800985a-9d44-447b-9419-7baf3d76ff07",
   "metadata": {},
   "outputs": [],
   "source": []
  }
 ],
 "metadata": {
  "kernelspec": {
   "display_name": "Python 3 (ipykernel)",
   "language": "python",
   "name": "python3"
  },
  "language_info": {
   "codemirror_mode": {
    "name": "ipython",
    "version": 3
   },
   "file_extension": ".py",
   "mimetype": "text/x-python",
   "name": "python",
   "nbconvert_exporter": "python",
   "pygments_lexer": "ipython3",
   "version": "3.10.0"
  }
 },
 "nbformat": 4,
 "nbformat_minor": 5
}
