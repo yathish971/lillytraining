{
 "cells": [
  {
   "cell_type": "markdown",
   "id": "f18d6508-75ad-40f3-8d71-0130b88f4a2f",
   "metadata": {},
   "source": [
    "## Reshaping data: pivot, melt, stack, and unstack methods"
   ]
  },
  {
   "cell_type": "code",
   "execution_count": null,
   "id": "b6c21b64-02ed-4e22-b7f6-822608eba7b6",
   "metadata": {},
   "outputs": [],
   "source": [
    "# import pandas\n",
    "import pandas as pd"
   ]
  },
  {
   "cell_type": "code",
   "execution_count": null,
   "id": "b5346c55-0fa6-4bcd-9617-23db1d1e3954",
   "metadata": {},
   "outputs": [],
   "source": [
    "data = {'Date': ['2023-08-01', '2023-08-01', '2023-08-02', '2023-08-02'],\n",
    "        'Item': ['Apple', 'Banana', 'Apple', 'Banana'],\n",
    "        'Quantity': [5, 3, 4, 2],\n",
    "        'Revenue': [15, 6, 12, 5]}"
   ]
  },
  {
   "cell_type": "code",
   "execution_count": null,
   "id": "d632e7fb-2dda-4a84-b205-deb738130b14",
   "metadata": {},
   "outputs": [],
   "source": [
    "# Convert to DataFrame\n",
    "df=pd.DataFrame(data)\n",
    "df"
   ]
  },
  {
   "cell_type": "code",
   "execution_count": null,
   "id": "b165983c-9cf2-40db-989c-0075a6aba072",
   "metadata": {},
   "outputs": [],
   "source": [
    "# pivot \n"
   ]
  },
  {
   "cell_type": "code",
   "execution_count": null,
   "id": "14f49d30-109a-4dee-8e64-f499ab6d3629",
   "metadata": {},
   "outputs": [],
   "source": [
    "# Melt\n",
    "\n"
   ]
  },
  {
   "cell_type": "code",
   "execution_count": null,
   "id": "d8f87a59-34ef-4b92-8975-795a39703b86",
   "metadata": {},
   "outputs": [],
   "source": [
    "# Stack\n"
   ]
  },
  {
   "cell_type": "code",
   "execution_count": null,
   "id": "e59d0640-e5b0-426c-80f1-d9f87b033230",
   "metadata": {},
   "outputs": [],
   "source": [
    "# Unstack\n"
   ]
  }
 ],
 "metadata": {
  "kernelspec": {
   "display_name": "Python 3 (ipykernel)",
   "language": "python",
   "name": "python3"
  },
  "language_info": {
   "codemirror_mode": {
    "name": "ipython",
    "version": 3
   },
   "file_extension": ".py",
   "mimetype": "text/x-python",
   "name": "python",
   "nbconvert_exporter": "python",
   "pygments_lexer": "ipython3",
   "version": "3.10.0"
  }
 },
 "nbformat": 4,
 "nbformat_minor": 5
}
