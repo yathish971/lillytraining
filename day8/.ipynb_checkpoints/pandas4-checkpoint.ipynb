{
 "cells": [
  {
   "cell_type": "markdown",
   "id": "be20a2bb-0370-4df7-90bd-2a7d7edf5b51",
   "metadata": {},
   "source": [
    "## Exploring data: head, tail, info, describe, and value_counts methods"
   ]
  },
  {
   "cell_type": "code",
   "execution_count": null,
   "id": "5f50ba73-c310-4adf-b9dd-5ad8b65219a7",
   "metadata": {},
   "outputs": [],
   "source": [
    "# Import Pandas\n",
    "import pandas as pd"
   ]
  },
  {
   "cell_type": "code",
   "execution_count": null,
   "id": "4a6ac639-b96b-42c5-9004-64fc4b331fd2",
   "metadata": {},
   "outputs": [],
   "source": [
    "# Read the data from \"data.csv\"\n"
   ]
  },
  {
   "cell_type": "code",
   "execution_count": null,
   "id": "8707eef2-84ed-4d5c-8ddb-98cb863b3b8b",
   "metadata": {},
   "outputs": [],
   "source": [
    "# Print the result\n"
   ]
  },
  {
   "cell_type": "code",
   "execution_count": null,
   "id": "4b9e8791-dd9a-4ee8-822f-a0a665dadc84",
   "metadata": {},
   "outputs": [],
   "source": [
    "# Get the first 5 rows \n"
   ]
  },
  {
   "cell_type": "code",
   "execution_count": null,
   "id": "a482f749-707d-4a0d-bf8c-0005819d46b7",
   "metadata": {},
   "outputs": [],
   "source": [
    "# Get the last 5 rows\n"
   ]
  },
  {
   "cell_type": "code",
   "execution_count": null,
   "id": "a4b10c84-f259-4056-a91f-c2126a22ade2",
   "metadata": {},
   "outputs": [],
   "source": [
    "# Print the summary of the dataframe\n"
   ]
  },
  {
   "cell_type": "code",
   "execution_count": null,
   "id": "e07ba0bd-adef-426e-985a-a89e3863786c",
   "metadata": {},
   "outputs": [],
   "source": [
    "# Print the statisctics of the dataframe\n"
   ]
  },
  {
   "cell_type": "code",
   "execution_count": null,
   "id": "80f8e6c9-18e1-4a5a-8ac4-055bc18aacc6",
   "metadata": {},
   "outputs": [],
   "source": [
    "# Print the male and female count\n"
   ]
  },
  {
   "cell_type": "code",
   "execution_count": null,
   "id": "40320e0a-a684-4aff-947f-dc809d401290",
   "metadata": {},
   "outputs": [],
   "source": [
    "# Challenge\n",
    "\n",
    "# Get max age\n",
    "\n",
    "\n",
    "# Get Average salary\n",
    "\n"
   ]
  },
  {
   "cell_type": "code",
   "execution_count": null,
   "id": "d724cc98-a2af-478e-aa90-d1fcc18f1a9d",
   "metadata": {},
   "outputs": [],
   "source": []
  }
 ],
 "metadata": {
  "kernelspec": {
   "display_name": "Python 3 (ipykernel)",
   "language": "python",
   "name": "python3"
  },
  "language_info": {
   "codemirror_mode": {
    "name": "ipython",
    "version": 3
   },
   "file_extension": ".py",
   "mimetype": "text/x-python",
   "name": "python",
   "nbconvert_exporter": "python",
   "pygments_lexer": "ipython3",
   "version": "3.10.0"
  }
 },
 "nbformat": 4,
 "nbformat_minor": 5
}
