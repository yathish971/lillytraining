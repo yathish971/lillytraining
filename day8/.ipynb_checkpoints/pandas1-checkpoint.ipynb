{
 "cells": [
  {
   "cell_type": "markdown",
   "id": "f413a25d-a4a4-4cda-baf5-f58d3d43f7d7",
   "metadata": {},
   "source": [
    "## Series Object"
   ]
  },
  {
   "cell_type": "code",
   "execution_count": 2,
   "id": "3610bcaf-f1f3-46b3-ba1d-ec67ef8ee1c3",
   "metadata": {},
   "outputs": [],
   "source": [
    "# Import Pandas\n",
    "import pandas as pd"
   ]
  },
  {
   "cell_type": "code",
   "execution_count": 11,
   "id": "287f058c-ed2e-4879-9a4f-d2e9fbc6ba0f",
   "metadata": {},
   "outputs": [],
   "source": [
    "# Create a list\n",
    "mylist=[1,2,3,4,5]"
   ]
  },
  {
   "cell_type": "code",
   "execution_count": 15,
   "id": "da1fc13a-4ee7-4478-b6c0-4663cc60ab8a",
   "metadata": {},
   "outputs": [],
   "source": [
    "# Input the list to the Pandas\n",
    "Pandas_series=pd.Series(mylist)\n",
    "print(pandas_series)"
   ]
  },
  {
   "cell_type": "code",
   "execution_count": 16,
   "id": "e67a3af0-db6d-47ab-a8da-3c4bb48675c9",
   "metadata": {},
   "outputs": [],
   "source": [
    "# Change the index using pandas\n",
    "  \n",
    "pandas_series=pd.Series(mylist,index=[\"I\",\"II\",\"III\",\"IV\",\"V\"])\n",
    "\n",
    "print(pandas_series)"
   ]
  },
  {
   "cell_type": "code",
   "execution_count": 22,
   "id": "d13a4894-1693-4af0-9a82-7db532fbeff1",
   "metadata": {},
   "outputs": [],
   "source": [
    "# Create a dictionary\n",
    "dictq={'a':1,'b':2,'c':3,'d':4}"
   ]
  },
  {
   "cell_type": "code",
   "execution_count": 23,
   "id": "563d2793-98d1-4f62-8f50-a57f2175c9b4",
   "metadata": {},
   "outputs": [],
   "source": [
    "# Provide this to Series \n",
    "pandsa_dict_series=pd.Series(dictq)"
   ]
  },
  {
   "cell_type": "code",
   "execution_count": 25,
   "id": "d0a6f5e0-4e9a-4828-b44c-ae838fcce3ba",
   "metadata": {},
   "outputs": [
    {
     "name": "stdout",
     "output_type": "stream",
     "text": [
      "b    2\n",
      "c    3\n",
      "d    4\n",
      "dtype: int64\n"
     ]
    }
   ],
   "source": [
    "# Print the 2nd to last element\n",
    "print(pandsa_dict_series[1:])"
   ]
  },
  {
   "cell_type": "code",
   "execution_count": 27,
   "id": "ebf2070c-f622-47a4-b4e4-da9b01cca2c0",
   "metadata": {},
   "outputs": [],
   "source": [
    "# import numpy\n",
    "import numpy as np"
   ]
  },
  {
   "cell_type": "raw",
   "id": "c2925c2f-e8c1-4092-bba4-34f42e5f8554",
   "metadata": {},
   "source": [
    "# Add a scalar value 5 to each elements\n",
    "result=pandsa_dict_series+5\n",
    "print(result)"
   ]
  },
  {
   "cell_type": "code",
   "execution_count": null,
   "id": "bc17d6fc-6403-4e06-9cb9-0466db816fdc",
   "metadata": {},
   "outputs": [],
   "source": []
  }
 ],
 "metadata": {
  "kernelspec": {
   "display_name": "Python 3 (ipykernel)",
   "language": "python",
   "name": "python3"
  },
  "language_info": {
   "codemirror_mode": {
    "name": "ipython",
    "version": 3
   },
   "file_extension": ".py",
   "mimetype": "text/x-python",
   "name": "python",
   "nbconvert_exporter": "python",
   "pygments_lexer": "ipython3",
   "version": "3.10.0"
  }
 },
 "nbformat": 4,
 "nbformat_minor": 5
}
