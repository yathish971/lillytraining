{
 "cells": [
  {
   "cell_type": "markdown",
   "id": "25216aa5-d660-4489-8353-6a10fecbd904",
   "metadata": {},
   "source": [
    "## Importing and exporting data: read_csv and read_excel"
   ]
  },
  {
   "cell_type": "code",
   "execution_count": 3,
   "id": "b0c2c4e6-f254-4c10-947b-5d0ba1add106",
   "metadata": {},
   "outputs": [],
   "source": [
    "# Import Pandas\n",
    "import pandas as pd"
   ]
  },
  {
   "cell_type": "code",
   "execution_count": 4,
   "id": "15661129-90cf-4a77-9f78-3fe257d16224",
   "metadata": {},
   "outputs": [],
   "source": [
    "# Read data from a CSV file\n",
    "\n",
    "data_csv=pd.read_csv(\"data.csv\")\n",
    "# Insert another column as ID\n",
    "data_csv.insert(0,'ID',range(1,len(data_csv)+1))"
   ]
  },
  {
   "cell_type": "code",
   "execution_count": 5,
   "id": "1c5a6c0d-9065-47d3-9f6c-09e74c846ff6",
   "metadata": {},
   "outputs": [
    {
     "name": "stdout",
     "output_type": "stream",
     "text": [
      "    ID     Name  Age  Gender           City  Salary\n",
      "0    1    Alice   25  Female       New York   60000\n",
      "1    2      Bob   30    Male  San Francisco   80000\n",
      "2    3  Charlie   22    Male    Los Angeles   55000\n",
      "3    4    David   28    Male        Chicago   75000\n",
      "4    5      Eve   35  Female         Boston   90000\n",
      "5    6    Frank   29    Male        Seattle   72000\n",
      "6    7    Grace   31  Female         Austin   85000\n",
      "7    8   Hannah   26  Female         Denver   68000\n",
      "8    9    Isaac   27    Male          Miami   62000\n",
      "9   10    Julia   24  Female       Portland   57000\n",
      "10  11    Karen   33  Female        Houston   78000\n",
      "11  12     Liam   23    Male         Dallas   60000\n",
      "12  13    Megan   29  Female        Phoenix   71000\n",
      "13  14     Noah   32    Male        Atlanta   84000\n",
      "14  15   Olivia   28  Female        Chicago   78000\n",
      "15  16    Peter   25    Male         Boston   65000\n",
      "16  17    Quinn   29    Male        Seattle   72000\n",
      "17  18   Rachel   27  Female  San Francisco   95000\n",
      "18  19      Sam   30    Male    Los Angeles   58000\n",
      "19  20   Taylor   26    Male         Denver   71000\n",
      "20  21      Uma   24  Female       New York   67000\n",
      "21  22    Vince   31    Male          Miami   74000\n",
      "22  23    Wendy   34  Female        Houston   89000\n",
      "23  24   Xander   28    Male         Dallas   62000\n",
      "24  25     Yara   23  Female         Austin   61000\n",
      "25  26     Zane   25    Male        Phoenix   66000\n"
     ]
    }
   ],
   "source": [
    "# Print csv data\n",
    "print(data_csv)"
   ]
  },
  {
   "cell_type": "code",
   "execution_count": null,
   "id": "ed82fe34-a01c-4e1e-8001-05009249b04e",
   "metadata": {},
   "outputs": [],
   "source": [
    "# Export to csv with ID\n",
    "data_csv.to_csv(\"data_id.csv\",index=Fasle)  \n"
   ]
  },
  {
   "cell_type": "code",
   "execution_count": 6,
   "id": "677b67d5-56ef-45e4-b91d-4ffc37fa7afb",
   "metadata": {},
   "outputs": [],
   "source": [
    "#  Read data from an excel file\n",
    "data_excel=pd.read_excel(\"student_data.xlsx\")"
   ]
  },
  {
   "cell_type": "code",
   "execution_count": 7,
   "id": "0b509bcb-edef-4aae-b0b3-762b546112e3",
   "metadata": {},
   "outputs": [
    {
     "name": "stdout",
     "output_type": "stream",
     "text": [
      "   StudentID        Name  Age  Gender  Score\n",
      "0      ST001   Student 1   20  Female     55\n",
      "1      ST002   Student 2   18    Male     56\n",
      "2      ST003   Student 3   23    Male     99\n",
      "3      ST004   Student 4   22    Male     57\n",
      "4      ST005   Student 5   23  Female     98\n",
      "5      ST006   Student 6   25    Male     67\n",
      "6      ST007   Student 7   22  Female     73\n",
      "7      ST008   Student 8   25  Female     74\n",
      "8      ST009   Student 9   20  Female     84\n",
      "9      ST010  Student 10   23    Male     77\n",
      "10     ST011  Student 11   19    Male     99\n",
      "11     ST012  Student 12   19    Male     78\n",
      "12     ST013  Student 13   20  Female     75\n",
      "13     ST014  Student 14   25  Female     84\n",
      "14     ST015  Student 15   18  Female     99\n",
      "15     ST016  Student 16   25  Female     67\n",
      "16     ST017  Student 17   23    Male     88\n",
      "17     ST018  Student 18   21    Male     62\n",
      "18     ST019  Student 19   18    Male    100\n",
      "19     ST020  Student 20   21    Male     53\n"
     ]
    }
   ],
   "source": [
    "# Print the response\n",
    "print(data_excel)"
   ]
  },
  {
   "cell_type": "code",
   "execution_count": 8,
   "id": "a27907e2-5e24-4f54-ba03-f5ec231f5e5b",
   "metadata": {},
   "outputs": [],
   "source": [
    "# Insert another column as ID\n",
    "data_excel.insert(0,'ID',range(1,len(data_excel)+1))"
   ]
  },
  {
   "cell_type": "code",
   "execution_count": 9,
   "id": "f8766dd0-bd4e-4dee-92c7-c3f5ca0e33a5",
   "metadata": {},
   "outputs": [
    {
     "name": "stdout",
     "output_type": "stream",
     "text": [
      "    ID StudentID        Name  Age  Gender  Score\n",
      "0    1     ST001   Student 1   20  Female     55\n",
      "1    2     ST002   Student 2   18    Male     56\n",
      "2    3     ST003   Student 3   23    Male     99\n",
      "3    4     ST004   Student 4   22    Male     57\n",
      "4    5     ST005   Student 5   23  Female     98\n",
      "5    6     ST006   Student 6   25    Male     67\n",
      "6    7     ST007   Student 7   22  Female     73\n",
      "7    8     ST008   Student 8   25  Female     74\n",
      "8    9     ST009   Student 9   20  Female     84\n",
      "9   10     ST010  Student 10   23    Male     77\n",
      "10  11     ST011  Student 11   19    Male     99\n",
      "11  12     ST012  Student 12   19    Male     78\n",
      "12  13     ST013  Student 13   20  Female     75\n",
      "13  14     ST014  Student 14   25  Female     84\n",
      "14  15     ST015  Student 15   18  Female     99\n",
      "15  16     ST016  Student 16   25  Female     67\n",
      "16  17     ST017  Student 17   23    Male     88\n",
      "17  18     ST018  Student 18   21    Male     62\n",
      "18  19     ST019  Student 19   18    Male    100\n",
      "19  20     ST020  Student 20   21    Male     53\n"
     ]
    }
   ],
   "source": [
    "# Print the result\n",
    "print(data_excel)"
   ]
  },
  {
   "cell_type": "code",
   "execution_count": null,
   "id": "f4f415f8-ebfd-4d15-9542-7ce738d63c54",
   "metadata": {},
   "outputs": [],
   "source": [
    "# Export to excel with ID\n",
    "data_excel.to_excel(\"student_data_id.xlsx\",index=False)"
   ]
  }
 ],
 "metadata": {
  "kernelspec": {
   "display_name": "Python 3 (ipykernel)",
   "language": "python",
   "name": "python3"
  },
  "language_info": {
   "codemirror_mode": {
    "name": "ipython",
    "version": 3
   },
   "file_extension": ".py",
   "mimetype": "text/x-python",
   "name": "python",
   "nbconvert_exporter": "python",
   "pygments_lexer": "ipython3",
   "version": "3.10.0"
  }
 },
 "nbformat": 4,
 "nbformat_minor": 5
}
