{
 "cells": [
  {
   "cell_type": "markdown",
   "id": "42c77c1d-c664-49f5-8b36-6656a6301bb6",
   "metadata": {},
   "source": [
    "## DataFrame Objects"
   ]
  },
  {
   "cell_type": "code",
   "execution_count": null,
   "id": "2fe1732d-15c4-48f9-9a05-4ea6a8b68d44",
   "metadata": {},
   "outputs": [],
   "source": [
    "# Import Pandas\n"
   ]
  },
  {
   "cell_type": "code",
   "execution_count": null,
   "id": "40ddd8c1-f470-408b-9dd7-cbd96310a993",
   "metadata": {},
   "outputs": [],
   "source": [
    "# Creating a dictionary\n",
    "data = {\n",
    "    'Name': ['Alice', 'Bob', 'Charlie'],\n",
    "    'Age': [25, 30, 22],\n",
    "    'Gender': ['Female', 'Male', 'Male']\n",
    "}"
   ]
  },
  {
   "cell_type": "code",
   "execution_count": null,
   "id": "a7f4a35e-167c-4c05-b7cd-e0dc21462ae0",
   "metadata": {},
   "outputs": [],
   "source": [
    "# Creating a DataFrame from the dictionary\n"
   ]
  },
  {
   "cell_type": "code",
   "execution_count": null,
   "id": "40c680a6-29a1-4939-8b1f-a8cfef746a47",
   "metadata": {},
   "outputs": [],
   "source": [
    "# Creating a DataFrame from the dictionary using index\n"
   ]
  },
  {
   "cell_type": "code",
   "execution_count": null,
   "id": "6ce6fc6a-efec-4cda-9ca8-f58bc400d390",
   "metadata": {},
   "outputs": [],
   "source": [
    "# Accessing all the Names (both the ways)\n"
   ]
  },
  {
   "cell_type": "code",
   "execution_count": null,
   "id": "6192c41f-c4d7-4585-9be8-9619294653bc",
   "metadata": {},
   "outputs": [],
   "source": [
    "# Increase the age by 1\n"
   ]
  },
  {
   "cell_type": "code",
   "execution_count": null,
   "id": "c021ac66-b26c-4a65-b10b-343f2fa00911",
   "metadata": {},
   "outputs": [],
   "source": []
  }
 ],
 "metadata": {
  "kernelspec": {
   "display_name": "Python 3 (ipykernel)",
   "language": "python",
   "name": "python3"
  },
  "language_info": {
   "codemirror_mode": {
    "name": "ipython",
    "version": 3
   },
   "file_extension": ".py",
   "mimetype": "text/x-python",
   "name": "python",
   "nbconvert_exporter": "python",
   "pygments_lexer": "ipython3",
   "version": "3.10.0"
  }
 },
 "nbformat": 4,
 "nbformat_minor": 5
}
