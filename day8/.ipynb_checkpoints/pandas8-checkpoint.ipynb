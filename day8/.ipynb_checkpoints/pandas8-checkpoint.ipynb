{
 "cells": [
  {
   "cell_type": "markdown",
   "id": "8d1a2d3d-dd65-474f-b7e8-26e461560754",
   "metadata": {},
   "source": [
    "## Combining and merging data: concat and merge methods"
   ]
  },
  {
   "cell_type": "code",
   "execution_count": null,
   "id": "925d153c-a425-4795-a0d5-8743463640f6",
   "metadata": {},
   "outputs": [],
   "source": [
    "# Import pandas\n",
    "import pandas as pd"
   ]
  },
  {
   "cell_type": "code",
   "execution_count": null,
   "id": "6018e149-8413-48e3-9981-07c84ea1891f",
   "metadata": {},
   "outputs": [],
   "source": [
    "data1 = {'Name': ['Alice', 'Bob'], 'Age': [25, 30]}\n",
    "data2 = {'Name': ['Charlie', 'David'], 'Age': [22, 28]}"
   ]
  },
  {
   "cell_type": "code",
   "execution_count": null,
   "id": "4b18bb80-bb7f-4099-bf79-319b6ab9033c",
   "metadata": {},
   "outputs": [],
   "source": [
    "# Create dataframes from data1 and data2\n"
   ]
  },
  {
   "cell_type": "code",
   "execution_count": null,
   "id": "02ae4d29-05b0-42c1-98db-a8a23593a007",
   "metadata": {},
   "outputs": [],
   "source": [
    "# Print df1\n"
   ]
  },
  {
   "cell_type": "code",
   "execution_count": null,
   "id": "d68c7cf3-192f-4bad-83f6-6b73d0ea4e74",
   "metadata": {},
   "outputs": [],
   "source": [
    "# Print df2\n"
   ]
  },
  {
   "cell_type": "code",
   "execution_count": null,
   "id": "a00267c8-1c42-4970-8c7a-7931c47693d0",
   "metadata": {},
   "outputs": [],
   "source": [
    "# Concatenate 2 dataframes\n"
   ]
  },
  {
   "cell_type": "code",
   "execution_count": null,
   "id": "f15584b4-507a-43a3-85ed-5090b7684c33",
   "metadata": {},
   "outputs": [],
   "source": [
    "# Concatenate data horizontally\n"
   ]
  },
  {
   "cell_type": "code",
   "execution_count": null,
   "id": "d86048c7-6720-4269-bcc2-f4da8f5b0330",
   "metadata": {},
   "outputs": [],
   "source": [
    "data1 = {'ID': [1, 2], 'Name': ['Alice', 'Bob']}\n",
    "data2 = {'ID': [2, 3], 'Age': [30, 22]}"
   ]
  },
  {
   "cell_type": "code",
   "execution_count": null,
   "id": "21d1f145-e1e3-4b14-8081-9cd07bd1ba92",
   "metadata": {},
   "outputs": [],
   "source": [
    "# Create dataframes from data1 and data2\n"
   ]
  },
  {
   "cell_type": "code",
   "execution_count": null,
   "id": "5c21d611-3c9c-4ffc-9791-113d3e492ed5",
   "metadata": {},
   "outputs": [],
   "source": [
    "# Print df1\n"
   ]
  },
  {
   "cell_type": "code",
   "execution_count": null,
   "id": "eadb2d9f-b5c2-420a-945e-2db4e99cd6bf",
   "metadata": {},
   "outputs": [],
   "source": [
    "# Print df2\n"
   ]
  },
  {
   "cell_type": "code",
   "execution_count": null,
   "id": "0a671562-113f-411e-81b9-1ee740c96c1f",
   "metadata": {},
   "outputs": [],
   "source": [
    "# Merge dataframes\n"
   ]
  },
  {
   "cell_type": "code",
   "execution_count": null,
   "id": "f5421dc4-9d0d-4855-bd6f-b7559b720692",
   "metadata": {},
   "outputs": [],
   "source": []
  }
 ],
 "metadata": {
  "kernelspec": {
   "display_name": "Python 3 (ipykernel)",
   "language": "python",
   "name": "python3"
  },
  "language_info": {
   "codemirror_mode": {
    "name": "ipython",
    "version": 3
   },
   "file_extension": ".py",
   "mimetype": "text/x-python",
   "name": "python",
   "nbconvert_exporter": "python",
   "pygments_lexer": "ipython3",
   "version": "3.10.0"
  }
 },
 "nbformat": 4,
 "nbformat_minor": 5
}
