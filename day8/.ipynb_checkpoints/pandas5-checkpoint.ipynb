{
 "cells": [
  {
   "cell_type": "markdown",
   "id": "3898800f-3c03-417f-a5a7-e3c84f133869",
   "metadata": {},
   "source": [
    "## Filtering and sorting data: boolean indexing and sorting methods"
   ]
  },
  {
   "cell_type": "code",
   "execution_count": 1,
   "id": "329cd4f6-8179-462b-b23f-04d4de92c31c",
   "metadata": {},
   "outputs": [],
   "source": [
    "# Import pandas\n",
    "import pandas as pd"
   ]
  },
  {
   "cell_type": "code",
   "execution_count": null,
   "id": "dea95e9f-f99e-4b5b-bfc5-f22cd684127f",
   "metadata": {},
   "outputs": [],
   "source": []
  },
  {
   "cell_type": "raw",
   "id": "79a7fe8c-ce72-4001-a7b4-6a79a74d4aec",
   "metadata": {},
   "source": [
    "# Read the data from \"student_data.xlsx\""
   ]
  },
  {
   "cell_type": "code",
   "execution_count": null,
   "id": "f8d49a77-29a3-4e69-96e1-bed56bd4bf33",
   "metadata": {},
   "outputs": [],
   "source": [
    "df=pd.read_excel(\"student_data.xlsx\")"
   ]
  },
  {
   "cell_type": "code",
   "execution_count": null,
   "id": "bf67e9a8-8abe-4442-a77e-ff67eb3bd11d",
   "metadata": {},
   "outputs": [],
   "source": [
    "# Print the result\n"
   ]
  },
  {
   "cell_type": "code",
   "execution_count": null,
   "id": "8e490173-849e-4b81-840b-ccb2affa39f0",
   "metadata": {},
   "outputs": [],
   "source": [
    "# Print the rows where Age is greater than 20\n"
   ]
  },
  {
   "cell_type": "code",
   "execution_count": null,
   "id": "6366ffd4-f29e-447a-ae07-3c5322f4f884",
   "metadata": {},
   "outputs": [],
   "source": [
    "# Select rows where Gender is 'Female' and Age is less than 25\n"
   ]
  },
  {
   "cell_type": "code",
   "execution_count": null,
   "id": "b76fca39-86b2-4e40-ac36-d0c89d3b5076",
   "metadata": {},
   "outputs": [],
   "source": [
    "# Sort the DataFrame by Age in ascending order\n"
   ]
  },
  {
   "cell_type": "code",
   "execution_count": null,
   "id": "51eb0ef7-68e4-4e91-b991-f5fd6b388caa",
   "metadata": {},
   "outputs": [],
   "source": [
    "# Sort the DataFrame by Age in descending order\n"
   ]
  },
  {
   "cell_type": "code",
   "execution_count": null,
   "id": "c7056386-3604-41d1-8a68-d121ca7e8968",
   "metadata": {},
   "outputs": [],
   "source": [
    "# Sort the DataFrame by index in ascending order\n"
   ]
  },
  {
   "cell_type": "code",
   "execution_count": null,
   "id": "0580af22-da98-4ddd-9c8d-03c2e90c4146",
   "metadata": {},
   "outputs": [],
   "source": [
    "# Sort the DataFrame by index in descending order\n"
   ]
  }
 ],
 "metadata": {
  "kernelspec": {
   "display_name": "Python 3 (ipykernel)",
   "language": "python",
   "name": "python3"
  },
  "language_info": {
   "codemirror_mode": {
    "name": "ipython",
    "version": 3
   },
   "file_extension": ".py",
   "mimetype": "text/x-python",
   "name": "python",
   "nbconvert_exporter": "python",
   "pygments_lexer": "ipython3",
   "version": "3.10.0"
  }
 },
 "nbformat": 4,
 "nbformat_minor": 5
}
