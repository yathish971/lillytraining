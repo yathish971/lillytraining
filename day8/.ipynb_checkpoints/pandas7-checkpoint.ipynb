{
 "cells": [
  {
   "cell_type": "markdown",
   "id": "d0dc564a-414e-4fc6-ad0d-8519d21ba745",
   "metadata": {},
   "source": [
    "## Aggregating and grouping data: groupby and aggregate methods"
   ]
  },
  {
   "cell_type": "code",
   "execution_count": null,
   "id": "7e2dbdde-7f4d-4aeb-be9f-296de0db80f8",
   "metadata": {},
   "outputs": [],
   "source": [
    "import pandas as pd"
   ]
  },
  {
   "cell_type": "code",
   "execution_count": null,
   "id": "ff4690cc-f622-4a51-88e8-0bdeab7e1cb7",
   "metadata": {},
   "outputs": [],
   "source": [
    "# Read from student_data.xlsx\n"
   ]
  },
  {
   "cell_type": "code",
   "execution_count": null,
   "id": "98dd5e2b-761b-451b-8d5d-f2672f178cc2",
   "metadata": {},
   "outputs": [],
   "source": [
    "# Try to group by the 'Score' and observe the result\n"
   ]
  },
  {
   "cell_type": "code",
   "execution_count": null,
   "id": "eb5fd51a-6bac-4b77-aece-52e4cb1205e3",
   "metadata": {},
   "outputs": [],
   "source": [
    "# Group the data by 'Age' and calculate the mean for other numeric columns\n"
   ]
  },
  {
   "cell_type": "code",
   "execution_count": null,
   "id": "2599223d-39ad-4a8b-8282-d4179e18f912",
   "metadata": {},
   "outputs": [],
   "source": [
    "# Calculate the average of Age and Score for each Gender\n"
   ]
  },
  {
   "cell_type": "code",
   "execution_count": null,
   "id": "5a5be1ea-fb47-480a-9472-f3ab146d4c2f",
   "metadata": {},
   "outputs": [],
   "source": []
  }
 ],
 "metadata": {
  "kernelspec": {
   "display_name": "Python 3 (ipykernel)",
   "language": "python",
   "name": "python3"
  },
  "language_info": {
   "codemirror_mode": {
    "name": "ipython",
    "version": 3
   },
   "file_extension": ".py",
   "mimetype": "text/x-python",
   "name": "python",
   "nbconvert_exporter": "python",
   "pygments_lexer": "ipython3",
   "version": "3.10.0"
  }
 },
 "nbformat": 4,
 "nbformat_minor": 5
}
