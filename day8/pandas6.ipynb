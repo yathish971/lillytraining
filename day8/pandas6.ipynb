{
 "cells": [
  {
   "cell_type": "markdown",
   "id": "58de99c1-7390-4ea9-95d6-3b3bb0e568d5",
   "metadata": {},
   "source": [
    "## Data cleaning: handling missing values, removing duplicates, and changing data types"
   ]
  },
  {
   "cell_type": "code",
   "execution_count": 1,
   "id": "8ec03d0e-5e50-42de-aa1d-6d5459639f52",
   "metadata": {},
   "outputs": [],
   "source": [
    "# Import Pandas\n",
    "import pandas as pd"
   ]
  },
  {
   "cell_type": "code",
   "execution_count": 2,
   "id": "2b47d3b2-5e80-4226-8e95-47d1054d4926",
   "metadata": {},
   "outputs": [],
   "source": [
    "# Read the data from the csv \"sample_data.csv\"\n",
    "df=pd.read_csv('sample_data.csv')"
   ]
  },
  {
   "cell_type": "code",
   "execution_count": 3,
   "id": "8296addb-53c4-40c0-8e86-018ebbb47c08",
   "metadata": {
    "scrolled": true
   },
   "outputs": [
    {
     "name": "stdout",
     "output_type": "stream",
     "text": [
      "   StudentID   Name    Age  Gender  Score\n",
      "0      False  False  False   False  False\n",
      "1      False  False  False   False  False\n",
      "2      False  False  False   False  False\n",
      "3      False  False   True   False  False\n",
      "4      False  False  False   False   True\n",
      "5      False  False  False   False  False\n"
     ]
    }
   ],
   "source": [
    "# Check for missing values\n",
    "print(df.isnull())"
   ]
  },
  {
   "cell_type": "code",
   "execution_count": 4,
   "id": "a434e8cc-b3f8-4d1c-98f9-c0edf7cdd761",
   "metadata": {},
   "outputs": [
    {
     "data": {
      "text/html": [
       "<div>\n",
       "<style scoped>\n",
       "    .dataframe tbody tr th:only-of-type {\n",
       "        vertical-align: middle;\n",
       "    }\n",
       "\n",
       "    .dataframe tbody tr th {\n",
       "        vertical-align: top;\n",
       "    }\n",
       "\n",
       "    .dataframe thead th {\n",
       "        text-align: right;\n",
       "    }\n",
       "</style>\n",
       "<table border=\"1\" class=\"dataframe\">\n",
       "  <thead>\n",
       "    <tr style=\"text-align: right;\">\n",
       "      <th></th>\n",
       "      <th>StudentID</th>\n",
       "      <th>Name</th>\n",
       "      <th>Age</th>\n",
       "      <th>Gender</th>\n",
       "      <th>Score</th>\n",
       "    </tr>\n",
       "  </thead>\n",
       "  <tbody>\n",
       "    <tr>\n",
       "      <th>0</th>\n",
       "      <td>ST001</td>\n",
       "      <td>Student 1</td>\n",
       "      <td>23.0</td>\n",
       "      <td>Male</td>\n",
       "      <td>85.0</td>\n",
       "    </tr>\n",
       "    <tr>\n",
       "      <th>1</th>\n",
       "      <td>ST001</td>\n",
       "      <td>Student 1</td>\n",
       "      <td>23.0</td>\n",
       "      <td>Male</td>\n",
       "      <td>85.0</td>\n",
       "    </tr>\n",
       "    <tr>\n",
       "      <th>2</th>\n",
       "      <td>ST002</td>\n",
       "      <td>Student 2</td>\n",
       "      <td>21.0</td>\n",
       "      <td>Female</td>\n",
       "      <td>76.0</td>\n",
       "    </tr>\n",
       "    <tr>\n",
       "      <th>3</th>\n",
       "      <td>ST003</td>\n",
       "      <td>Student 3</td>\n",
       "      <td>0.0</td>\n",
       "      <td>Male</td>\n",
       "      <td>91.0</td>\n",
       "    </tr>\n",
       "    <tr>\n",
       "      <th>4</th>\n",
       "      <td>ST004</td>\n",
       "      <td>Student 4</td>\n",
       "      <td>24.0</td>\n",
       "      <td>Female</td>\n",
       "      <td>0.0</td>\n",
       "    </tr>\n",
       "    <tr>\n",
       "      <th>5</th>\n",
       "      <td>ST005</td>\n",
       "      <td>Student 5</td>\n",
       "      <td>19.0</td>\n",
       "      <td>Male</td>\n",
       "      <td>77.0</td>\n",
       "    </tr>\n",
       "  </tbody>\n",
       "</table>\n",
       "</div>"
      ],
      "text/plain": [
       "  StudentID       Name   Age  Gender  Score\n",
       "0     ST001  Student 1  23.0    Male   85.0\n",
       "1     ST001  Student 1  23.0    Male   85.0\n",
       "2     ST002  Student 2  21.0  Female   76.0\n",
       "3     ST003  Student 3   0.0    Male   91.0\n",
       "4     ST004  Student 4  24.0  Female    0.0\n",
       "5     ST005  Student 5  19.0    Male   77.0"
      ]
     },
     "execution_count": 4,
     "metadata": {},
     "output_type": "execute_result"
    }
   ],
   "source": [
    "# Replace NaN values with 0\n",
    "df.fillna(0)\n",
    "\n"
   ]
  },
  {
   "cell_type": "code",
   "execution_count": 5,
   "id": "7bdf1af3-7d2a-4002-89b6-5191e81893e2",
   "metadata": {},
   "outputs": [
    {
     "data": {
      "text/html": [
       "<div>\n",
       "<style scoped>\n",
       "    .dataframe tbody tr th:only-of-type {\n",
       "        vertical-align: middle;\n",
       "    }\n",
       "\n",
       "    .dataframe tbody tr th {\n",
       "        vertical-align: top;\n",
       "    }\n",
       "\n",
       "    .dataframe thead th {\n",
       "        text-align: right;\n",
       "    }\n",
       "</style>\n",
       "<table border=\"1\" class=\"dataframe\">\n",
       "  <thead>\n",
       "    <tr style=\"text-align: right;\">\n",
       "      <th></th>\n",
       "      <th>StudentID</th>\n",
       "      <th>Name</th>\n",
       "      <th>Age</th>\n",
       "      <th>Gender</th>\n",
       "      <th>Score</th>\n",
       "    </tr>\n",
       "  </thead>\n",
       "  <tbody>\n",
       "    <tr>\n",
       "      <th>0</th>\n",
       "      <td>ST001</td>\n",
       "      <td>Student 1</td>\n",
       "      <td>23.0</td>\n",
       "      <td>Male</td>\n",
       "      <td>85.0</td>\n",
       "    </tr>\n",
       "    <tr>\n",
       "      <th>1</th>\n",
       "      <td>ST001</td>\n",
       "      <td>Student 1</td>\n",
       "      <td>23.0</td>\n",
       "      <td>Male</td>\n",
       "      <td>85.0</td>\n",
       "    </tr>\n",
       "    <tr>\n",
       "      <th>2</th>\n",
       "      <td>ST002</td>\n",
       "      <td>Student 2</td>\n",
       "      <td>21.0</td>\n",
       "      <td>Female</td>\n",
       "      <td>76.0</td>\n",
       "    </tr>\n",
       "    <tr>\n",
       "      <th>5</th>\n",
       "      <td>ST005</td>\n",
       "      <td>Student 5</td>\n",
       "      <td>19.0</td>\n",
       "      <td>Male</td>\n",
       "      <td>77.0</td>\n",
       "    </tr>\n",
       "  </tbody>\n",
       "</table>\n",
       "</div>"
      ],
      "text/plain": [
       "  StudentID       Name   Age  Gender  Score\n",
       "0     ST001  Student 1  23.0    Male   85.0\n",
       "1     ST001  Student 1  23.0    Male   85.0\n",
       "2     ST002  Student 2  21.0  Female   76.0\n",
       "5     ST005  Student 5  19.0    Male   77.0"
      ]
     },
     "execution_count": 5,
     "metadata": {},
     "output_type": "execute_result"
    }
   ],
   "source": [
    "# Drop rows with any NaN values\n",
    "df.dropna()"
   ]
  },
  {
   "cell_type": "code",
   "execution_count": 6,
   "id": "283681b7-71ed-407f-a4eb-518f0a38182d",
   "metadata": {},
   "outputs": [
    {
     "data": {
      "text/plain": [
       "0    False\n",
       "1     True\n",
       "2    False\n",
       "3    False\n",
       "4    False\n",
       "5    False\n",
       "dtype: bool"
      ]
     },
     "execution_count": 6,
     "metadata": {},
     "output_type": "execute_result"
    }
   ],
   "source": [
    "# Check for duplicate rows\n",
    "df.duplicated()"
   ]
  },
  {
   "cell_type": "code",
   "execution_count": 7,
   "id": "30954367-dcbb-4fda-b2eb-3eed1d1ffb0c",
   "metadata": {},
   "outputs": [
    {
     "data": {
      "text/html": [
       "<div>\n",
       "<style scoped>\n",
       "    .dataframe tbody tr th:only-of-type {\n",
       "        vertical-align: middle;\n",
       "    }\n",
       "\n",
       "    .dataframe tbody tr th {\n",
       "        vertical-align: top;\n",
       "    }\n",
       "\n",
       "    .dataframe thead th {\n",
       "        text-align: right;\n",
       "    }\n",
       "</style>\n",
       "<table border=\"1\" class=\"dataframe\">\n",
       "  <thead>\n",
       "    <tr style=\"text-align: right;\">\n",
       "      <th></th>\n",
       "      <th>StudentID</th>\n",
       "      <th>Name</th>\n",
       "      <th>Age</th>\n",
       "      <th>Gender</th>\n",
       "      <th>Score</th>\n",
       "    </tr>\n",
       "  </thead>\n",
       "  <tbody>\n",
       "    <tr>\n",
       "      <th>0</th>\n",
       "      <td>ST001</td>\n",
       "      <td>Student 1</td>\n",
       "      <td>23.0</td>\n",
       "      <td>Male</td>\n",
       "      <td>85.0</td>\n",
       "    </tr>\n",
       "    <tr>\n",
       "      <th>2</th>\n",
       "      <td>ST002</td>\n",
       "      <td>Student 2</td>\n",
       "      <td>21.0</td>\n",
       "      <td>Female</td>\n",
       "      <td>76.0</td>\n",
       "    </tr>\n",
       "    <tr>\n",
       "      <th>3</th>\n",
       "      <td>ST003</td>\n",
       "      <td>Student 3</td>\n",
       "      <td>NaN</td>\n",
       "      <td>Male</td>\n",
       "      <td>91.0</td>\n",
       "    </tr>\n",
       "    <tr>\n",
       "      <th>4</th>\n",
       "      <td>ST004</td>\n",
       "      <td>Student 4</td>\n",
       "      <td>24.0</td>\n",
       "      <td>Female</td>\n",
       "      <td>NaN</td>\n",
       "    </tr>\n",
       "    <tr>\n",
       "      <th>5</th>\n",
       "      <td>ST005</td>\n",
       "      <td>Student 5</td>\n",
       "      <td>19.0</td>\n",
       "      <td>Male</td>\n",
       "      <td>77.0</td>\n",
       "    </tr>\n",
       "  </tbody>\n",
       "</table>\n",
       "</div>"
      ],
      "text/plain": [
       "  StudentID       Name   Age  Gender  Score\n",
       "0     ST001  Student 1  23.0    Male   85.0\n",
       "2     ST002  Student 2  21.0  Female   76.0\n",
       "3     ST003  Student 3   NaN    Male   91.0\n",
       "4     ST004  Student 4  24.0  Female    NaN\n",
       "5     ST005  Student 5  19.0    Male   77.0"
      ]
     },
     "execution_count": 7,
     "metadata": {},
     "output_type": "execute_result"
    }
   ],
   "source": [
    "# Drop duplicate rows based on all columns\n",
    "df.drop_duplicates()"
   ]
  },
  {
   "cell_type": "code",
   "execution_count": 12,
   "id": "e5ffed3a-536e-499d-baf2-e47c6cf0ecfb",
   "metadata": {},
   "outputs": [
    {
     "name": "stdout",
     "output_type": "stream",
     "text": [
      "float64\n"
     ]
    }
   ],
   "source": [
    "# Print the data type of age\n",
    "print(df['Age'].dtypes)"
   ]
  },
  {
   "cell_type": "code",
   "execution_count": 18,
   "id": "3abae7bc-7125-417b-860c-6978658ad5b7",
   "metadata": {},
   "outputs": [
    {
     "name": "stdout",
     "output_type": "stream",
     "text": [
      "  StudentID       Name   Age  Gender  Score\n",
      "0     ST001  Student 1  23.0    Male   85.0\n",
      "2     ST002  Student 2  21.0  Female   76.0\n",
      "5     ST005  Student 5  19.0    Male   77.0\n"
     ]
    },
    {
     "data": {
      "text/plain": [
       "0    23\n",
       "2    21\n",
       "5    19\n",
       "Name: Age, dtype: int32"
      ]
     },
     "execution_count": 18,
     "metadata": {},
     "output_type": "execute_result"
    }
   ],
   "source": [
    "# Try converting Age datatype from float to int\n",
    "df = df.dropna()\n",
    "print(df)\n",
    "df['Age'].astype(int)"
   ]
  },
  {
   "cell_type": "code",
   "execution_count": null,
   "id": "eefce508-e234-40e1-9196-83c4133041c2",
   "metadata": {},
   "outputs": [],
   "source": []
  }
 ],
 "metadata": {
  "kernelspec": {
   "display_name": "Python 3 (ipykernel)",
   "language": "python",
   "name": "python3"
  },
  "language_info": {
   "codemirror_mode": {
    "name": "ipython",
    "version": 3
   },
   "file_extension": ".py",
   "mimetype": "text/x-python",
   "name": "python",
   "nbconvert_exporter": "python",
   "pygments_lexer": "ipython3",
   "version": "3.10.0"
  }
 },
 "nbformat": 4,
 "nbformat_minor": 5
}
