{
 "cells": [
  {
   "cell_type": "markdown",
   "id": "f18d6508-75ad-40f3-8d71-0130b88f4a2f",
   "metadata": {},
   "source": [
    "## Reshaping data: pivot, melt, stack, and unstack methods"
   ]
  },
  {
   "cell_type": "code",
   "execution_count": 2,
   "id": "b6c21b64-02ed-4e22-b7f6-822608eba7b6",
   "metadata": {},
   "outputs": [],
   "source": [
    "# import pandas\n",
    "import pandas as pd"
   ]
  },
  {
   "cell_type": "code",
   "execution_count": 3,
   "id": "b5346c55-0fa6-4bcd-9617-23db1d1e3954",
   "metadata": {},
   "outputs": [],
   "source": [
    "data = {'Date': ['2023-08-01', '2023-08-01', '2023-08-02', '2023-08-02'],\n",
    "        'Item': ['Apple', 'Banana', 'Apple', 'Banana'],\n",
    "        'Quantity': [5, 3, 4, 2],\n",
    "        'Revenue': [15, 6, 12, 5]}"
   ]
  },
  {
   "cell_type": "code",
   "execution_count": 4,
   "id": "d632e7fb-2dda-4a84-b205-deb738130b14",
   "metadata": {},
   "outputs": [
    {
     "data": {
      "text/html": [
       "<div>\n",
       "<style scoped>\n",
       "    .dataframe tbody tr th:only-of-type {\n",
       "        vertical-align: middle;\n",
       "    }\n",
       "\n",
       "    .dataframe tbody tr th {\n",
       "        vertical-align: top;\n",
       "    }\n",
       "\n",
       "    .dataframe thead th {\n",
       "        text-align: right;\n",
       "    }\n",
       "</style>\n",
       "<table border=\"1\" class=\"dataframe\">\n",
       "  <thead>\n",
       "    <tr style=\"text-align: right;\">\n",
       "      <th></th>\n",
       "      <th>Date</th>\n",
       "      <th>Item</th>\n",
       "      <th>Quantity</th>\n",
       "      <th>Revenue</th>\n",
       "    </tr>\n",
       "  </thead>\n",
       "  <tbody>\n",
       "    <tr>\n",
       "      <th>0</th>\n",
       "      <td>2023-08-01</td>\n",
       "      <td>Apple</td>\n",
       "      <td>5</td>\n",
       "      <td>15</td>\n",
       "    </tr>\n",
       "    <tr>\n",
       "      <th>1</th>\n",
       "      <td>2023-08-01</td>\n",
       "      <td>Banana</td>\n",
       "      <td>3</td>\n",
       "      <td>6</td>\n",
       "    </tr>\n",
       "    <tr>\n",
       "      <th>2</th>\n",
       "      <td>2023-08-02</td>\n",
       "      <td>Apple</td>\n",
       "      <td>4</td>\n",
       "      <td>12</td>\n",
       "    </tr>\n",
       "    <tr>\n",
       "      <th>3</th>\n",
       "      <td>2023-08-02</td>\n",
       "      <td>Banana</td>\n",
       "      <td>2</td>\n",
       "      <td>5</td>\n",
       "    </tr>\n",
       "  </tbody>\n",
       "</table>\n",
       "</div>"
      ],
      "text/plain": [
       "         Date    Item  Quantity  Revenue\n",
       "0  2023-08-01   Apple         5       15\n",
       "1  2023-08-01  Banana         3        6\n",
       "2  2023-08-02   Apple         4       12\n",
       "3  2023-08-02  Banana         2        5"
      ]
     },
     "execution_count": 4,
     "metadata": {},
     "output_type": "execute_result"
    }
   ],
   "source": [
    "# Convert to DataFrame\n",
    "df=pd.DataFrame(data)\n",
    "df"
   ]
  },
  {
   "cell_type": "code",
   "execution_count": 11,
   "id": "b165983c-9cf2-40db-989c-0075a6aba072",
   "metadata": {},
   "outputs": [
    {
     "name": "stdout",
     "output_type": "stream",
     "text": [
      "           Quantity       \n",
      "Item          Apple Banana\n",
      "Date                      \n",
      "2023-08-01        5      3\n",
      "2023-08-02        4      2\n"
     ]
    }
   ],
   "source": [
    "# pivot \n",
    "print(df.pivot(index=['Date'],columns=['Item'],values=['Quantity']))\n"
   ]
  },
  {
   "cell_type": "code",
   "execution_count": 14,
   "id": "14f49d30-109a-4dee-8e64-f499ab6d3629",
   "metadata": {},
   "outputs": [
    {
     "name": "stdout",
     "output_type": "stream",
     "text": [
      "         Date    Item    Metric  value\n",
      "0  2023-08-01   Apple  Quantity      5\n",
      "1  2023-08-01  Banana  Quantity      3\n",
      "2  2023-08-02   Apple  Quantity      4\n",
      "3  2023-08-02  Banana  Quantity      2\n",
      "4  2023-08-01   Apple   Revenue     15\n",
      "5  2023-08-01  Banana   Revenue      6\n",
      "6  2023-08-02   Apple   Revenue     12\n",
      "7  2023-08-02  Banana   Revenue      5\n"
     ]
    }
   ],
   "source": [
    "# Melt\n",
    "melted_Data= pd.melt(df,id_vars=['Date','Item'],value_vars=['Quantity','Revenue'],var_name=\"Metric\",value_name=\"value\")\n",
    "print(melted_Data)\n"
   ]
  },
  {
   "cell_type": "code",
   "execution_count": 19,
   "id": "d8f87a59-34ef-4b92-8975-795a39703b86",
   "metadata": {},
   "outputs": [
    {
     "name": "stdout",
     "output_type": "stream",
     "text": [
      "0  Date        2023-08-01\n",
      "   Item             Apple\n",
      "   Quantity             5\n",
      "   Revenue             15\n",
      "1  Date        2023-08-01\n",
      "   Item            Banana\n",
      "   Quantity             3\n",
      "   Revenue              6\n",
      "2  Date        2023-08-02\n",
      "   Item             Apple\n",
      "   Quantity             4\n",
      "   Revenue             12\n",
      "3  Date        2023-08-02\n",
      "   Item            Banana\n",
      "   Quantity             2\n",
      "   Revenue              5\n",
      "dtype: object\n"
     ]
    }
   ],
   "source": [
    "# Stack\n",
    "stack_data=df.stack()\n",
    "print(stack_data)"
   ]
  },
  {
   "cell_type": "code",
   "execution_count": 20,
   "id": "e59d0640-e5b0-426c-80f1-d9f87b033230",
   "metadata": {},
   "outputs": [
    {
     "name": "stdout",
     "output_type": "stream",
     "text": [
      "         Date    Item Quantity Revenue\n",
      "0  2023-08-01   Apple        5      15\n",
      "1  2023-08-01  Banana        3       6\n",
      "2  2023-08-02   Apple        4      12\n",
      "3  2023-08-02  Banana        2       5\n"
     ]
    }
   ],
   "source": [
    "# Unstack\n",
    "unstack_data=stack_data.unstack()\n",
    "print(unstack_data)"
   ]
  },
  {
   "cell_type": "code",
   "execution_count": null,
   "id": "b1e5f81e-2fc6-4e8f-88f9-52efe7088caf",
   "metadata": {},
   "outputs": [],
   "source": []
  }
 ],
 "metadata": {
  "kernelspec": {
   "display_name": "Python 3 (ipykernel)",
   "language": "python",
   "name": "python3"
  },
  "language_info": {
   "codemirror_mode": {
    "name": "ipython",
    "version": 3
   },
   "file_extension": ".py",
   "mimetype": "text/x-python",
   "name": "python",
   "nbconvert_exporter": "python",
   "pygments_lexer": "ipython3",
   "version": "3.10.0"
  }
 },
 "nbformat": 4,
 "nbformat_minor": 5
}
